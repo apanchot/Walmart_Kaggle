{
 "cells": [
  {
   "cell_type": "code",
   "execution_count": 2,
   "id": "0dccc676",
   "metadata": {},
   "outputs": [],
   "source": [
    "using Plots\n",
    "using DataFrames\n",
    "import CSV\n",
    "using MLJ\n",
    "using LossFunctions\n",
    "import FileIO"
   ]
  },
  {
   "cell_type": "code",
   "execution_count": 12,
   "id": "9ca0b7a5",
   "metadata": {},
   "outputs": [],
   "source": [
    "x_train, x_test, y = FileIO.load(\"Preprocessing/preprocessed.jld2\", \"x_train\", \"x_test\", \"y\");\n"
   ]
  },
  {
   "cell_type": "code",
   "execution_count": 13,
   "id": "f8ea2cc1",
   "metadata": {},
   "outputs": [
    {
     "data": {
      "text/plain": [
       "7-element Vector{NamedTuple{(:name, :package_name, :is_supervised, :docstring, :hyperparameter_ranges, :hyperparameter_types, :hyperparameters, :implemented_methods, :is_pure_julia, :is_wrapper, :iteration_parameter, :load_path, :package_license, :package_url, :package_uuid, :prediction_type, :supports_class_weights, :supports_online, :supports_training_losses, :supports_weights, :input_scitype, :target_scitype, :output_scitype), T} where T<:Tuple}:\n",
       " (name = ConstantRegressor, package_name = MLJModels, ... )\n",
       " (name = DecisionTreeRegressor, package_name = BetaML, ... )\n",
       " (name = DecisionTreeRegressor, package_name = DecisionTree, ... )\n",
       " (name = DeterministicConstantRegressor, package_name = MLJModels, ... )\n",
       " (name = RandomForestRegressor, package_name = BetaML, ... )\n",
       " (name = RandomForestRegressor, package_name = DecisionTree, ... )\n",
       " (name = RandomForestRegressor, package_name = ScikitLearn, ... )"
      ]
     },
     "execution_count": 13,
     "metadata": {},
     "output_type": "execute_result"
    }
   ],
   "source": [
    "models(matching(x_train, y))"
   ]
  },
  {
   "cell_type": "code",
   "execution_count": 14,
   "id": "35bb1d6b",
   "metadata": {},
   "outputs": [
    {
     "name": "stdout",
     "output_type": "stream",
     "text": [
      "import MLJDecisionTreeInterface ✔\n"
     ]
    },
    {
     "name": "stderr",
     "output_type": "stream",
     "text": [
      "┌ Info: For silent loading, specify `verbosity=0`. \n",
      "└ @ Main /Users/alex/.julia/packages/MLJModels/E8BbE/src/loading.jl:168\n"
     ]
    },
    {
     "data": {
      "text/plain": [
       "DecisionTreeRegressor(\n",
       "    max_depth = -1,\n",
       "    min_samples_leaf = 5,\n",
       "    min_samples_split = 2,\n",
       "    min_purity_increase = 0.0,\n",
       "    n_subfeatures = 0,\n",
       "    post_prune = false,\n",
       "    merge_purity_threshold = 1.0)\u001b[34m @917\u001b[39m"
      ]
     },
     "execution_count": 14,
     "metadata": {},
     "output_type": "execute_result"
    }
   ],
   "source": [
    "@load DecisionTreeRegressor pkg=\"DecisionTree\"\n",
    "regressor = MLJDecisionTreeInterface.DecisionTreeRegressor()"
   ]
  },
  {
   "cell_type": "code",
   "execution_count": 15,
   "id": "c07e82a2",
   "metadata": {},
   "outputs": [
    {
     "data": {
      "text/plain": [
       "Pipeline258(\n",
       "    decision_tree_regressor = DecisionTreeRegressor(\n",
       "            max_depth = -1,\n",
       "            min_samples_leaf = 5,\n",
       "            min_samples_split = 2,\n",
       "            min_purity_increase = 0.0,\n",
       "            n_subfeatures = 0,\n",
       "            post_prune = false,\n",
       "            merge_purity_threshold = 1.0))\u001b[34m @472\u001b[39m"
      ]
     },
     "execution_count": 15,
     "metadata": {},
     "output_type": "execute_result"
    }
   ],
   "source": [
    "pipe = @pipeline(regressor )"
   ]
  },
  {
   "cell_type": "code",
   "execution_count": 17,
   "id": "0a6428e3",
   "metadata": {},
   "outputs": [
    {
     "data": {
      "text/plain": [
       "\u001b[34mMachine{Pipeline258,…} @341\u001b[39m trained 0 times; caches data\n",
       "  args: \n",
       "    1:\t\u001b[34mSource @168\u001b[39m ⏎ `Table{Union{AbstractVector{Continuous}, AbstractVector{Count}}}`\n",
       "    2:\t\u001b[34mSource @987\u001b[39m ⏎ `AbstractVector{Continuous}`\n"
      ]
     },
     "execution_count": 17,
     "metadata": {},
     "output_type": "execute_result"
    }
   ],
   "source": [
    "regress = machine(pipe, x_train, y)"
   ]
  },
  {
   "cell_type": "code",
   "execution_count": 18,
   "id": "95d5aa45",
   "metadata": {},
   "outputs": [
    {
     "data": {
      "text/plain": [
       "([47089, 51374, 88757, 271742, 43265, 189152, 328550, 90194, 240676, 319288  …  1369, 350910, 410195, 74497, 224591, 43365, 280402, 90253, 351563, 77052], [247422, 414679, 148270, 79143, 135363, 149249, 301974, 90332, 234061, 321352  …  283929, 155360, 229652, 256257, 306923, 86417, 220214, 25498, 98387, 204353])"
      ]
     },
     "execution_count": 18,
     "metadata": {},
     "output_type": "execute_result"
    }
   ],
   "source": [
    "train, val = partition(eachindex(y), 0.7, shuffle=true, rng=0)"
   ]
  },
  {
   "cell_type": "code",
   "execution_count": 19,
   "id": "cebc7bd8",
   "metadata": {},
   "outputs": [
    {
     "name": "stderr",
     "output_type": "stream",
     "text": [
      "┌ Info: Training \u001b[34mMachine{Pipeline258,…} @341\u001b[39m.\n",
      "└ @ MLJBase /Users/alex/.julia/packages/MLJBase/hLtde/src/machines.jl:342\n",
      "┌ Info: Training \u001b[34mMachine{DecisionTreeRegressor,…} @482\u001b[39m.\n",
      "└ @ MLJBase /Users/alex/.julia/packages/MLJBase/hLtde/src/machines.jl:342\n"
     ]
    },
    {
     "data": {
      "text/plain": [
       "\u001b[34mMachine{Pipeline258,…} @341\u001b[39m trained 1 time; caches data\n",
       "  args: \n",
       "    1:\t\u001b[34mSource @168\u001b[39m ⏎ `Table{Union{AbstractVector{Continuous}, AbstractVector{Count}}}`\n",
       "    2:\t\u001b[34mSource @987\u001b[39m ⏎ `AbstractVector{Continuous}`\n"
      ]
     },
     "execution_count": 19,
     "metadata": {},
     "output_type": "execute_result"
    }
   ],
   "source": [
    "fit!(regress, rows=train)"
   ]
  },
  {
   "cell_type": "code",
   "execution_count": 20,
   "id": "53adc6e5",
   "metadata": {},
   "outputs": [
    {
     "name": "stdout",
     "output_type": "stream",
     "text": [
      "(decision_tree_regressor = (tree = Decision Tree\n",
      "Leaves: 47380\n",
      "Depth:  38,), machines = Machine[\u001b[34mMachine{DecisionTreeRegressor,…} @482\u001b[39m], fitted_params_given_machine = OrderedCollections.LittleDict{Any, Any, Vector{Any}, Vector{Any}}(\u001b[34mMachine{DecisionTreeRegressor,…} @482\u001b[39m => (tree = Decision Tree\n",
      "Leaves: 47380\n",
      "Depth:  38,)))\n"
     ]
    }
   ],
   "source": [
    "fitted_params(regress) |> println"
   ]
  },
  {
   "cell_type": "code",
   "execution_count": 21,
   "id": "b8101cba",
   "metadata": {},
   "outputs": [
    {
     "data": {
      "text/plain": [
       "126471-element Vector{Float64}:\n",
       "  24341.93625\n",
       "   3275.79375\n",
       "  24770.899999999998\n",
       "  16989.894\n",
       "  11414.494\n",
       "  73199.98666666666\n",
       "  32111.312857142857\n",
       "  10128.192\n",
       "    232.11428571428573\n",
       "   3667.626\n",
       "   8879.034444444444\n",
       "  12572.53375\n",
       "   2143.7655555555557\n",
       "      ⋮\n",
       "   2353.3433333333332\n",
       "  13238.38\n",
       "   4937.414\n",
       "  10265.99\n",
       "   6730.307142857144\n",
       "  59613.38999999999\n",
       "  29730.73\n",
       "  10906.37\n",
       "  11597.615555555556\n",
       " 112959.898\n",
       "  29608.528000000002\n",
       "    439.42499999999995"
      ]
     },
     "execution_count": 21,
     "metadata": {},
     "output_type": "execute_result"
    }
   ],
   "source": [
    "ypred = predict(regress, rows=val)\n"
   ]
  },
  {
   "cell_type": "code",
   "execution_count": 24,
   "id": "02a00a93",
   "metadata": {},
   "outputs": [
    {
     "data": {
      "text/plain": [
       "126471-element Vector{Float64}:\n",
       "  24141.66\n",
       "   3236.37\n",
       "  21521.85\n",
       "  17026.78\n",
       "  11473.65\n",
       "  90076.18\n",
       "  32146.94\n",
       "   8072.86\n",
       "    134.55\n",
       "   1479.92\n",
       "  10389.96\n",
       "  12531.61\n",
       "   2184.95\n",
       "      ⋮\n",
       "   4629.0\n",
       "  12386.84\n",
       "   4749.0\n",
       "   9820.68\n",
       "   6611.54\n",
       "  76107.15\n",
       "  44748.01\n",
       "   9780.82\n",
       "  16553.22\n",
       " 113768.51\n",
       "  26524.66\n",
       "    458.09"
      ]
     },
     "execution_count": 24,
     "metadata": {},
     "output_type": "execute_result"
    }
   ],
   "source": [
    "y[val]"
   ]
  },
  {
   "cell_type": "code",
   "execution_count": 25,
   "id": "6e8e207b",
   "metadata": {},
   "outputs": [
    {
     "data": {
      "text/plain": [
       "126471-element Vector{Float64}:\n",
       "  40110.57631406209\n",
       "   1554.2320640624944\n",
       "      1.0556325902499996e7\n",
       "   1360.576995999897\n",
       "   3499.432335999886\n",
       "      2.848059014240443e8\n",
       "   1269.2933081631854\n",
       "      4.224389630223998e6\n",
       "   9518.789846938776\n",
       "      4.786057542436001e6\n",
       "      2.2828960344308643e6\n",
       "   1674.7533140624942\n",
       "   1696.1584641975046\n",
       "      ⋮\n",
       "      5.178613264544445e6\n",
       " 725120.3715999984\n",
       "  35499.83539599991\n",
       " 198300.99609999955\n",
       "  14105.634222449224\n",
       "      2.720441189376001e8\n",
       "      2.255186985984001e8\n",
       "      1.2668628025000026e6\n",
       "      2.4558015409797538e7\n",
       " 653853.3665439899\n",
       "      9.510241841424014e6\n",
       "    348.38222500000074"
      ]
     },
     "execution_count": 25,
     "metadata": {},
     "output_type": "execute_result"
    }
   ],
   "source": [
    "LossFunctions.value(L2DistLoss(), y[val], ypred)"
   ]
  },
  {
   "cell_type": "code",
   "execution_count": null,
   "id": "7cbf623c",
   "metadata": {},
   "outputs": [],
   "source": []
  }
 ],
 "metadata": {
  "kernelspec": {
   "display_name": "Julia 1.6.0",
   "language": "julia",
   "name": "julia-1.6"
  },
  "language_info": {
   "file_extension": ".jl",
   "mimetype": "application/julia",
   "name": "julia",
   "version": "1.6.1"
  }
 },
 "nbformat": 4,
 "nbformat_minor": 5
}
