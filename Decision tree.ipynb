{
 "cells": [
  {
   "cell_type": "code",
   "execution_count": 1,
   "id": "c54b6ba2",
   "metadata": {
    "scrolled": false
   },
   "outputs": [],
   "source": [
    "\n",
    "import Impute"
   ]
  },
  {
   "cell_type": "code",
   "execution_count": 31,
   "id": "0dccc676",
   "metadata": {},
   "outputs": [],
   "source": [
    "using Plots\n",
    "using DataFrames\n",
    "import CSV\n",
    "using MLJ\n",
    "using LossFunctions"
   ]
  },
  {
   "cell_type": "code",
   "execution_count": 3,
   "id": "db1346ff",
   "metadata": {},
   "outputs": [],
   "source": [
    "features = DataFrame(CSV.File(\"features.csv\",missingstring=\"missing\"));\n",
    "train = DataFrame(CSV.File(\"train.csv\"));\n",
    "test = DataFrame(CSV.File(\"test.csv\"));\n",
    "stores = DataFrame(CSV.File(\"stores.csv\"));\n",
    "features.StoreType = stores[features.Store,:Type];\n",
    "features.Size = stores[features.Store,:Size];\n",
    "features.Id1 = string.(features.Store,\"_\",features.Date);\n",
    "select!(features, Not([:Store,:Date]));"
   ]
  },
  {
   "cell_type": "code",
   "execution_count": 4,
   "id": "de59e919",
   "metadata": {},
   "outputs": [],
   "source": [
    "# train.Id = string.(train.Store,\"_\",train.Dept,\"_\",train.Date);\n",
    "train.Id1 = string.(train.Store,\"_\",train.Date);\n",
    "# select!(train, Not([:Store,:Date,:IsHoliday]));\n",
    "# select!(train, :Id,:Weekly_Sales,:IsHoliday);\n",
    "\n",
    "# test.Id = string.(test.Store,\"_\",test.Dept,\"_\",test.Date);\n",
    "test.Id1 = string.(test.Store,\"_\",test.Date);\n",
    "# select!(test, Not([:Store,:Date,:IsHoliday]));\n",
    "# select!(test, :Id,:IsHoliday);"
   ]
  },
  {
   "cell_type": "code",
   "execution_count": 5,
   "id": "a67e96e6",
   "metadata": {},
   "outputs": [],
   "source": [
    "train = innerjoin(features,train,on=:Id1,makeunique=true)\n",
    "train.Id = string.(train.Store,\"_\",train.Dept,\"_\",train.Date);\n",
    "# select!(train, Not([:Store,:Date,:IsHoliday,:Id1]));\n",
    "# target = select(train, :Weekly_Sales);\n",
    "select!(train, Not([:Id1,:IsHoliday_1]));\n",
    "train;"
   ]
  },
  {
   "cell_type": "code",
   "execution_count": 6,
   "id": "bd0cb327",
   "metadata": {},
   "outputs": [],
   "source": [
    "test = innerjoin(features,test,on=:Id1,makeunique=true)\n",
    "test.Id = string.(test.Store,\"_\",test.Dept,\"_\",test.Date);\n",
    "# select!(test, Not([:Store,:Date,:IsHoliday,:Id1]));\n",
    "select!(test, Not([:Id1,:IsHoliday_1]));\n",
    "test;"
   ]
  },
  {
   "cell_type": "code",
   "execution_count": 7,
   "id": "df736973",
   "metadata": {},
   "outputs": [],
   "source": [
    "train = coerce(train, :StoreType => Multiclass);"
   ]
  },
  {
   "cell_type": "code",
   "execution_count": 8,
   "id": "1ce8e325",
   "metadata": {},
   "outputs": [
    {
     "data": {
      "text/plain": [
       "┌──────────────┬──────────────────────────────────┬─────────────────────────────\n",
       "│\u001b[22m _.names      \u001b[0m│\u001b[22m _.types                          \u001b[0m│\u001b[22m _.scitypes                \u001b[0m ⋯\n",
       "├──────────────┼──────────────────────────────────┼─────────────────────────────\n",
       "│ Temperature  │ Float64                          │ Continuous                 ⋯\n",
       "│ Fuel_Price   │ Float64                          │ Continuous                 ⋯\n",
       "│ MarkDown1    │ Union{Missing, Float64}          │ Union{Missing, Continuous} ⋯\n",
       "│ MarkDown2    │ Union{Missing, Float64}          │ Union{Missing, Continuous} ⋯\n",
       "│ MarkDown3    │ Union{Missing, Float64}          │ Union{Missing, Continuous} ⋯\n",
       "│ MarkDown4    │ Union{Missing, Float64}          │ Union{Missing, Continuous} ⋯\n",
       "│ MarkDown5    │ Union{Missing, Float64}          │ Union{Missing, Continuous} ⋯\n",
       "│ CPI          │ Union{Missing, Float64}          │ Union{Missing, Continuous} ⋯\n",
       "│ Unemployment │ Union{Missing, Float64}          │ Union{Missing, Continuous} ⋯\n",
       "│ IsHoliday    │ Bool                             │ Count                      ⋯\n",
       "│ StoreType    │ CategoricalValue{String, UInt32} │ Multiclass{3}              ⋯\n",
       "│ Size         │ Int64                            │ Count                      ⋯\n",
       "│ Store        │ Int64                            │ Count                      ⋯\n",
       "│ Dept         │ Int64                            │ Count                      ⋯\n",
       "│ Date         │ Date                             │ ScientificDate             ⋯\n",
       "│ Weekly_Sales │ Float64                          │ Continuous                 ⋯\n",
       "│ Id           │ String                           │ Textual                    ⋯\n",
       "└──────────────┴──────────────────────────────────┴─────────────────────────────\n",
       "_.nrows = 421570\n"
      ]
     },
     "execution_count": 8,
     "metadata": {},
     "output_type": "execute_result"
    }
   ],
   "source": [
    "schema(train)"
   ]
  },
  {
   "cell_type": "code",
   "execution_count": 9,
   "id": "cc5241a8",
   "metadata": {},
   "outputs": [
    {
     "data": {
      "text/html": [
       "<table class=\"data-frame\"><thead><tr><th></th><th>Temperature</th><th>Fuel_Price</th><th>MarkDown1</th><th>MarkDown2</th><th>MarkDown3</th><th>MarkDown4</th><th>MarkDown5</th></tr><tr><th></th><th>Float64</th><th>Float64</th><th>Float64</th><th>Float64</th><th>Float64</th><th>Float64</th><th>Float64</th></tr></thead><tbody><p>97,056 rows × 17 columns (omitted printing of 10 columns)</p><tr><th>1</th><td>59.11</td><td>3.297</td><td>10382.9</td><td>6115.67</td><td>215.07</td><td>2406.62</td><td>6551.42</td></tr><tr><th>2</th><td>62.25</td><td>3.308</td><td>6074.12</td><td>254.39</td><td>51.98</td><td>427.39</td><td>5988.57</td></tr><tr><th>3</th><td>60.14</td><td>3.236</td><td>410.31</td><td>98.0</td><td>55805.5</td><td>8.0</td><td>554.92</td></tr><tr><th>4</th><td>48.91</td><td>3.172</td><td>5629.51</td><td>68.0</td><td>1398.11</td><td>2084.64</td><td>20475.3</td></tr><tr><th>5</th><td>43.93</td><td>3.158</td><td>4640.65</td><td>19.0</td><td>105.02</td><td>3639.42</td><td>14461.8</td></tr><tr><th>6</th><td>51.63</td><td>3.159</td><td>5011.32</td><td>67.0</td><td>347.37</td><td>225.79</td><td>4011.37</td></tr><tr><th>7</th><td>47.96</td><td>3.112</td><td>2725.36</td><td>40.48</td><td>634.7</td><td>24.9</td><td>2739.43</td></tr><tr><th>8</th><td>44.55</td><td>3.129</td><td>5762.1</td><td>46011.4</td><td>260.36</td><td>983.65</td><td>4735.78</td></tr><tr><th>9</th><td>49.01</td><td>3.157</td><td>6277.39</td><td>21813.2</td><td>143.1</td><td>1450.13</td><td>8483.0</td></tr><tr><th>10</th><td>48.53</td><td>3.261</td><td>5183.29</td><td>8025.87</td><td>42.24</td><td>453.08</td><td>3719.38</td></tr><tr><th>11</th><td>54.11</td><td>3.268</td><td>4139.87</td><td>2807.19</td><td>33.88</td><td>500.62</td><td>3400.21</td></tr><tr><th>12</th><td>54.26</td><td>3.29</td><td>1164.46</td><td>1082.74</td><td>44.0</td><td>11.0</td><td>1222.19</td></tr><tr><th>13</th><td>56.55</td><td>3.36</td><td>34577.1</td><td>3579.21</td><td>160.53</td><td>32403.9</td><td>5630.4</td></tr><tr><th>14</th><td>48.02</td><td>3.409</td><td>13925.1</td><td>6927.23</td><td>101.64</td><td>8471.88</td><td>6886.04</td></tr><tr><th>15</th><td>45.32</td><td>3.51</td><td>9873.33</td><td>11062.3</td><td>9.8</td><td>8409.31</td><td>3402.66</td></tr><tr><th>16</th><td>57.25</td><td>3.555</td><td>9349.61</td><td>7556.01</td><td>3.2</td><td>1219.92</td><td>8143.59</td></tr><tr><th>17</th><td>60.96</td><td>3.63</td><td>15441.4</td><td>1569.0</td><td>10.8</td><td>25390.9</td><td>8067.61</td></tr><tr><th>18</th><td>58.76</td><td>3.669</td><td>10331.0</td><td>151.88</td><td>6.0</td><td>671.43</td><td>5509.84</td></tr><tr><th>19</th><td>64.74</td><td>3.734</td><td>4298.16</td><td>7.5</td><td>2.02</td><td>2724.65</td><td>2017.69</td></tr><tr><th>20</th><td>65.93</td><td>3.787</td><td>6118.56</td><td>9.48</td><td>4.97</td><td>426.72</td><td>3657.22</td></tr><tr><th>21</th><td>67.61</td><td>3.845</td><td>10309.6</td><td>0.5</td><td>10.25</td><td>1654.17</td><td>2642.78</td></tr><tr><th>22</th><td>69.07</td><td>3.891</td><td>6186.19</td><td>3288.69</td><td>17.07</td><td>1822.55</td><td>1063.78</td></tr><tr><th>23</th><td>66.76</td><td>3.877</td><td>2230.8</td><td>612.02</td><td>19.75</td><td>275.13</td><td>5747.1</td></tr><tr><th>24</th><td>77.95</td><td>3.501</td><td>6086.21</td><td>12.0</td><td>370.51</td><td>148.75</td><td>3690.85</td></tr><tr><th>25</th><td>78.3</td><td>3.452</td><td>8813.81</td><td>116.8</td><td>64.55</td><td>2652.04</td><td>7161.91</td></tr><tr><th>26</th><td>79.35</td><td>3.393</td><td>5621.99</td><td>109.6</td><td>0.25</td><td>2420.28</td><td>3083.26</td></tr><tr><th>27</th><td>78.39</td><td>3.346</td><td>8624.56</td><td>171.25</td><td>3.05</td><td>2524.07</td><td>7063.68</td></tr><tr><th>28</th><td>81.57</td><td>3.227</td><td>12218.8</td><td>94.4</td><td>192.83</td><td>4066.01</td><td>6149.04</td></tr><tr><th>29</th><td>77.12</td><td>3.256</td><td>7218.13</td><td>45.2</td><td>36.24</td><td>3909.38</td><td>2596.37</td></tr><tr><th>30</th><td>80.42</td><td>3.311</td><td>3213.0</td><td>313.72</td><td>9.53</td><td>2262.02</td><td>3228.19</td></tr><tr><th>&vellip;</th><td>&vellip;</td><td>&vellip;</td><td>&vellip;</td><td>&vellip;</td><td>&vellip;</td><td>&vellip;</td><td>&vellip;</td></tr></tbody></table>"
      ],
      "text/latex": [
       "\\begin{tabular}{r|cccccccc}\n",
       "\t& Temperature & Fuel\\_Price & MarkDown1 & MarkDown2 & MarkDown3 & MarkDown4 & MarkDown5 & \\\\\n",
       "\t\\hline\n",
       "\t& Float64 & Float64 & Float64 & Float64 & Float64 & Float64 & Float64 & \\\\\n",
       "\t\\hline\n",
       "\t1 & 59.11 & 3.297 & 10382.9 & 6115.67 & 215.07 & 2406.62 & 6551.42 & $\\dots$ \\\\\n",
       "\t2 & 62.25 & 3.308 & 6074.12 & 254.39 & 51.98 & 427.39 & 5988.57 & $\\dots$ \\\\\n",
       "\t3 & 60.14 & 3.236 & 410.31 & 98.0 & 55805.5 & 8.0 & 554.92 & $\\dots$ \\\\\n",
       "\t4 & 48.91 & 3.172 & 5629.51 & 68.0 & 1398.11 & 2084.64 & 20475.3 & $\\dots$ \\\\\n",
       "\t5 & 43.93 & 3.158 & 4640.65 & 19.0 & 105.02 & 3639.42 & 14461.8 & $\\dots$ \\\\\n",
       "\t6 & 51.63 & 3.159 & 5011.32 & 67.0 & 347.37 & 225.79 & 4011.37 & $\\dots$ \\\\\n",
       "\t7 & 47.96 & 3.112 & 2725.36 & 40.48 & 634.7 & 24.9 & 2739.43 & $\\dots$ \\\\\n",
       "\t8 & 44.55 & 3.129 & 5762.1 & 46011.4 & 260.36 & 983.65 & 4735.78 & $\\dots$ \\\\\n",
       "\t9 & 49.01 & 3.157 & 6277.39 & 21813.2 & 143.1 & 1450.13 & 8483.0 & $\\dots$ \\\\\n",
       "\t10 & 48.53 & 3.261 & 5183.29 & 8025.87 & 42.24 & 453.08 & 3719.38 & $\\dots$ \\\\\n",
       "\t11 & 54.11 & 3.268 & 4139.87 & 2807.19 & 33.88 & 500.62 & 3400.21 & $\\dots$ \\\\\n",
       "\t12 & 54.26 & 3.29 & 1164.46 & 1082.74 & 44.0 & 11.0 & 1222.19 & $\\dots$ \\\\\n",
       "\t13 & 56.55 & 3.36 & 34577.1 & 3579.21 & 160.53 & 32403.9 & 5630.4 & $\\dots$ \\\\\n",
       "\t14 & 48.02 & 3.409 & 13925.1 & 6927.23 & 101.64 & 8471.88 & 6886.04 & $\\dots$ \\\\\n",
       "\t15 & 45.32 & 3.51 & 9873.33 & 11062.3 & 9.8 & 8409.31 & 3402.66 & $\\dots$ \\\\\n",
       "\t16 & 57.25 & 3.555 & 9349.61 & 7556.01 & 3.2 & 1219.92 & 8143.59 & $\\dots$ \\\\\n",
       "\t17 & 60.96 & 3.63 & 15441.4 & 1569.0 & 10.8 & 25390.9 & 8067.61 & $\\dots$ \\\\\n",
       "\t18 & 58.76 & 3.669 & 10331.0 & 151.88 & 6.0 & 671.43 & 5509.84 & $\\dots$ \\\\\n",
       "\t19 & 64.74 & 3.734 & 4298.16 & 7.5 & 2.02 & 2724.65 & 2017.69 & $\\dots$ \\\\\n",
       "\t20 & 65.93 & 3.787 & 6118.56 & 9.48 & 4.97 & 426.72 & 3657.22 & $\\dots$ \\\\\n",
       "\t21 & 67.61 & 3.845 & 10309.6 & 0.5 & 10.25 & 1654.17 & 2642.78 & $\\dots$ \\\\\n",
       "\t22 & 69.07 & 3.891 & 6186.19 & 3288.69 & 17.07 & 1822.55 & 1063.78 & $\\dots$ \\\\\n",
       "\t23 & 66.76 & 3.877 & 2230.8 & 612.02 & 19.75 & 275.13 & 5747.1 & $\\dots$ \\\\\n",
       "\t24 & 77.95 & 3.501 & 6086.21 & 12.0 & 370.51 & 148.75 & 3690.85 & $\\dots$ \\\\\n",
       "\t25 & 78.3 & 3.452 & 8813.81 & 116.8 & 64.55 & 2652.04 & 7161.91 & $\\dots$ \\\\\n",
       "\t26 & 79.35 & 3.393 & 5621.99 & 109.6 & 0.25 & 2420.28 & 3083.26 & $\\dots$ \\\\\n",
       "\t27 & 78.39 & 3.346 & 8624.56 & 171.25 & 3.05 & 2524.07 & 7063.68 & $\\dots$ \\\\\n",
       "\t28 & 81.57 & 3.227 & 12218.8 & 94.4 & 192.83 & 4066.01 & 6149.04 & $\\dots$ \\\\\n",
       "\t29 & 77.12 & 3.256 & 7218.13 & 45.2 & 36.24 & 3909.38 & 2596.37 & $\\dots$ \\\\\n",
       "\t30 & 80.42 & 3.311 & 3213.0 & 313.72 & 9.53 & 2262.02 & 3228.19 & $\\dots$ \\\\\n",
       "\t$\\dots$ & $\\dots$ & $\\dots$ & $\\dots$ & $\\dots$ & $\\dots$ & $\\dots$ & $\\dots$ &  \\\\\n",
       "\\end{tabular}\n"
      ],
      "text/plain": [
       "\u001b[1m97056×17 DataFrame\u001b[0m\n",
       "\u001b[1m   Row \u001b[0m│\u001b[1m Temperature \u001b[0m\u001b[1m Fuel_Price \u001b[0m\u001b[1m MarkDown1 \u001b[0m\u001b[1m MarkDown2 \u001b[0m\u001b[1m MarkDown3 \u001b[0m\u001b[1m MarkDown4 \u001b[0m\u001b[1m \u001b[0m ⋯\n",
       "\u001b[1m       \u001b[0m│\u001b[90m Float64     \u001b[0m\u001b[90m Float64    \u001b[0m\u001b[90m Float64   \u001b[0m\u001b[90m Float64   \u001b[0m\u001b[90m Float64   \u001b[0m\u001b[90m Float64   \u001b[0m\u001b[90m \u001b[0m ⋯\n",
       "───────┼────────────────────────────────────────────────────────────────────────\n",
       "     1 │       59.11       3.297   10382.9     6115.67     215.07    2406.62   ⋯\n",
       "     2 │       62.25       3.308    6074.12     254.39      51.98     427.39\n",
       "     3 │       60.14       3.236     410.31      98.0    55805.5        8.0\n",
       "     4 │       48.91       3.172    5629.51      68.0     1398.11    2084.64\n",
       "     5 │       43.93       3.158    4640.65      19.0      105.02    3639.42   ⋯\n",
       "     6 │       51.63       3.159    5011.32      67.0      347.37     225.79\n",
       "     7 │       47.96       3.112    2725.36      40.48     634.7       24.9\n",
       "     8 │       44.55       3.129    5762.1    46011.4      260.36     983.65\n",
       "     9 │       49.01       3.157    6277.39   21813.2      143.1     1450.13   ⋯\n",
       "    10 │       48.53       3.261    5183.29    8025.87      42.24     453.08\n",
       "    11 │       54.11       3.268    4139.87    2807.19      33.88     500.62\n",
       "   ⋮   │      ⋮           ⋮           ⋮          ⋮          ⋮          ⋮       ⋱\n",
       " 97047 │       77.2        3.647    5753.81     167.95       1.23    9181.48\n",
       " 97048 │       76.58       3.654   24853.0       39.56      17.96   11142.7    ⋯\n",
       " 97049 │       78.65       3.722   17868.8       50.6       57.66    2593.93\n",
       " 97050 │       75.71       3.807    3657.79       6.0        0.3     1630.5\n",
       " 97051 │       72.62       3.834    7936.2       58.38      22.0     5518.07\n",
       " 97052 │       75.09       3.867   23641.3        6.0       92.93    6988.31   ⋯\n",
       " 97053 │       75.7        3.911   11024.5       12.8       52.63    1854.77\n",
       " 97054 │       65.32       4.038    8452.2       92.28      63.24    2376.38\n",
       " 97055 │       64.88       3.997    4556.61      20.64       1.5     1601.01\n",
       " 97056 │       58.85       3.882    4018.91      58.08     100.0      211.94   ⋯\n",
       "\u001b[36m                                               11 columns and 97035 rows omitted\u001b[0m"
      ]
     },
     "execution_count": 9,
     "metadata": {},
     "output_type": "execute_result"
    }
   ],
   "source": [
    "train = Impute.filter(train; dims=:rows) # drop missing rows\n",
    "# train = Impute.substitute(train) # substitute (somehow!?) missing data"
   ]
  },
  {
   "cell_type": "code",
   "execution_count": 10,
   "id": "b474a2da",
   "metadata": {},
   "outputs": [],
   "source": [
    "# y, X = unpack(train, ==(:Weekly_Sales), colname -> true)\n",
    "y, X = unpack(train, \n",
    "    ==(:Weekly_Sales), \n",
    "    colname -> colname != :Date &&  colname !=:Id\n",
    "#     !=([:Date, :Id])\n",
    "#     !=(:Date)\n",
    "    );"
   ]
  },
  {
   "cell_type": "code",
   "execution_count": 11,
   "id": "f7f6a7be",
   "metadata": {},
   "outputs": [
    {
     "data": {
      "text/plain": [
       "┌──────────────┬──────────────────────────────────┬───────────────┐\n",
       "│\u001b[22m _.names      \u001b[0m│\u001b[22m _.types                          \u001b[0m│\u001b[22m _.scitypes    \u001b[0m│\n",
       "├──────────────┼──────────────────────────────────┼───────────────┤\n",
       "│ Temperature  │ Float64                          │ Continuous    │\n",
       "│ Fuel_Price   │ Float64                          │ Continuous    │\n",
       "│ MarkDown1    │ Float64                          │ Continuous    │\n",
       "│ MarkDown2    │ Float64                          │ Continuous    │\n",
       "│ MarkDown3    │ Float64                          │ Continuous    │\n",
       "│ MarkDown4    │ Float64                          │ Continuous    │\n",
       "│ MarkDown5    │ Float64                          │ Continuous    │\n",
       "│ CPI          │ Float64                          │ Continuous    │\n",
       "│ Unemployment │ Float64                          │ Continuous    │\n",
       "│ IsHoliday    │ Bool                             │ Count         │\n",
       "│ StoreType    │ CategoricalValue{String, UInt32} │ Multiclass{3} │\n",
       "│ Size         │ Int64                            │ Count         │\n",
       "│ Store        │ Int64                            │ Count         │\n",
       "│ Dept         │ Int64                            │ Count         │\n",
       "└──────────────┴──────────────────────────────────┴───────────────┘\n",
       "_.nrows = 97056\n"
      ]
     },
     "execution_count": 11,
     "metadata": {},
     "output_type": "execute_result"
    }
   ],
   "source": [
    "schema(X)"
   ]
  },
  {
   "cell_type": "code",
   "execution_count": 12,
   "id": "f8ea2cc1",
   "metadata": {},
   "outputs": [
    {
     "data": {
      "text/plain": [
       "4-element Vector{NamedTuple{(:name, :package_name, :is_supervised, :docstring, :hyperparameter_ranges, :hyperparameter_types, :hyperparameters, :implemented_methods, :is_pure_julia, :is_wrapper, :iteration_parameter, :load_path, :package_license, :package_url, :package_uuid, :prediction_type, :supports_class_weights, :supports_online, :supports_training_losses, :supports_weights, :input_scitype, :target_scitype, :output_scitype), T} where T<:Tuple}:\n",
       " (name = ConstantRegressor, package_name = MLJModels, ... )\n",
       " (name = DecisionTreeRegressor, package_name = BetaML, ... )\n",
       " (name = DeterministicConstantRegressor, package_name = MLJModels, ... )\n",
       " (name = RandomForestRegressor, package_name = BetaML, ... )"
      ]
     },
     "execution_count": 12,
     "metadata": {},
     "output_type": "execute_result"
    }
   ],
   "source": [
    "models(matching(X, y))"
   ]
  },
  {
   "cell_type": "code",
   "execution_count": 18,
   "id": "35bb1d6b",
   "metadata": {},
   "outputs": [
    {
     "name": "stdout",
     "output_type": "stream",
     "text": [
      "import MLJDecisionTreeInterface ✔\n"
     ]
    },
    {
     "name": "stderr",
     "output_type": "stream",
     "text": [
      "┌ Info: For silent loading, specify `verbosity=0`. \n",
      "└ @ Main /Users/alex/.julia/packages/MLJModels/E8BbE/src/loading.jl:168\n"
     ]
    },
    {
     "data": {
      "text/plain": [
       "DecisionTreeRegressor(\n",
       "    max_depth = -1,\n",
       "    min_samples_leaf = 5,\n",
       "    min_samples_split = 2,\n",
       "    min_purity_increase = 0.0,\n",
       "    n_subfeatures = 0,\n",
       "    post_prune = false,\n",
       "    merge_purity_threshold = 1.0)\u001b[34m @235\u001b[39m"
      ]
     },
     "execution_count": 18,
     "metadata": {},
     "output_type": "execute_result"
    }
   ],
   "source": [
    "@load DecisionTreeRegressor pkg=\"DecisionTree\"\n",
    "regressor = MLJDecisionTreeInterface.DecisionTreeRegressor()"
   ]
  },
  {
   "cell_type": "code",
   "execution_count": 21,
   "id": "c07e82a2",
   "metadata": {},
   "outputs": [
    {
     "data": {
      "text/plain": [
       "Pipeline262(\n",
       "    standardizer = Standardizer(\n",
       "            features = Symbol[],\n",
       "            ignore = false,\n",
       "            ordered_factor = false,\n",
       "            count = false),\n",
       "    one_hot_encoder = OneHotEncoder(\n",
       "            features = Symbol[],\n",
       "            drop_last = false,\n",
       "            ordered_factor = true,\n",
       "            ignore = false),\n",
       "    decision_tree_regressor = DecisionTreeRegressor(\n",
       "            max_depth = -1,\n",
       "            min_samples_leaf = 5,\n",
       "            min_samples_split = 2,\n",
       "            min_purity_increase = 0.0,\n",
       "            n_subfeatures = 0,\n",
       "            post_prune = false,\n",
       "            merge_purity_threshold = 1.0))\u001b[34m @477\u001b[39m"
      ]
     },
     "execution_count": 21,
     "metadata": {},
     "output_type": "execute_result"
    }
   ],
   "source": [
    "pipe = @pipeline(Standardizer,\n",
    "                 OneHotEncoder,\n",
    "                 regressor )"
   ]
  },
  {
   "cell_type": "code",
   "execution_count": 22,
   "id": "0a6428e3",
   "metadata": {},
   "outputs": [
    {
     "data": {
      "text/plain": [
       "\u001b[34mMachine{Pipeline262,…} @150\u001b[39m trained 0 times; caches data\n",
       "  args: \n",
       "    1:\t\u001b[34mSource @185\u001b[39m ⏎ `Table{Union{AbstractVector{Continuous}, AbstractVector{Count}, AbstractVector{Multiclass{3}}}}`\n",
       "    2:\t\u001b[34mSource @545\u001b[39m ⏎ `AbstractVector{Continuous}`\n"
      ]
     },
     "execution_count": 22,
     "metadata": {},
     "output_type": "execute_result"
    }
   ],
   "source": [
    "regress = machine(pipe, X, y)"
   ]
  },
  {
   "cell_type": "code",
   "execution_count": 23,
   "id": "95d5aa45",
   "metadata": {},
   "outputs": [
    {
     "data": {
      "text/plain": [
       "([12585, 28911, 6448, 87930, 72097, 58627, 96392, 55000, 7974, 21168  …  92403, 59988, 50528, 18412, 91173, 27475, 38297, 89570, 67786, 53080], [71979, 7797, 32381, 79326, 50233, 38904, 48203, 51548, 3284, 55709  …  2444, 68687, 71423, 21785, 24288, 44779, 86417, 89142, 25498, 73281])"
      ]
     },
     "execution_count": 23,
     "metadata": {},
     "output_type": "execute_result"
    }
   ],
   "source": [
    "train, test = partition(eachindex(y), 0.7, shuffle=true, rng=0)"
   ]
  },
  {
   "cell_type": "code",
   "execution_count": 24,
   "id": "cebc7bd8",
   "metadata": {},
   "outputs": [
    {
     "name": "stderr",
     "output_type": "stream",
     "text": [
      "┌ Info: Training \u001b[34mMachine{Pipeline262,…} @150\u001b[39m.\n",
      "└ @ MLJBase /Users/alex/.julia/packages/MLJBase/hLtde/src/machines.jl:342\n",
      "┌ Info: Training \u001b[34mMachine{Standardizer,…} @759\u001b[39m.\n",
      "└ @ MLJBase /Users/alex/.julia/packages/MLJBase/hLtde/src/machines.jl:342\n",
      "┌ Info: Training \u001b[34mMachine{OneHotEncoder,…} @643\u001b[39m.\n",
      "└ @ MLJBase /Users/alex/.julia/packages/MLJBase/hLtde/src/machines.jl:342\n",
      "┌ Info: Spawning 3 sub-features to one-hot encode feature :StoreType.\n",
      "└ @ MLJModels /Users/alex/.julia/packages/MLJModels/E8BbE/src/builtins/Transformers.jl:1142\n",
      "┌ Info: Training \u001b[34mMachine{DecisionTreeRegressor,…} @992\u001b[39m.\n",
      "└ @ MLJBase /Users/alex/.julia/packages/MLJBase/hLtde/src/machines.jl:342\n"
     ]
    },
    {
     "data": {
      "text/plain": [
       "\u001b[34mMachine{Pipeline262,…} @150\u001b[39m trained 1 time; caches data\n",
       "  args: \n",
       "    1:\t\u001b[34mSource @185\u001b[39m ⏎ `Table{Union{AbstractVector{Continuous}, AbstractVector{Count}, AbstractVector{Multiclass{3}}}}`\n",
       "    2:\t\u001b[34mSource @545\u001b[39m ⏎ `AbstractVector{Continuous}`\n"
      ]
     },
     "execution_count": 24,
     "metadata": {},
     "output_type": "execute_result"
    }
   ],
   "source": [
    "fit!(regress, rows=train)"
   ]
  },
  {
   "cell_type": "code",
   "execution_count": 26,
   "id": "53adc6e5",
   "metadata": {},
   "outputs": [
    {
     "name": "stdout",
     "output_type": "stream",
     "text": [
      "(standardizer = Dict(:CPI => (174.78910061423335, 39.656137408654544), :Fuel_Price => (3.6192831510619823, 0.2799605459670509), :MarkDown1 => (8822.068469509413, 9247.185701195871), :MarkDown3 => (1787.7802499300844, 10917.794131475586), :Temperature => (57.30800468066942, 18.276825620533234), :MarkDown5 => (5304.424938106243, 6538.396397750151), :MarkDown4 => (4020.609798790091, 7170.4930882228555), :MarkDown2 => (3682.778021166046, 10017.908111361498), :Unemployment => (7.413088123169314, 1.7080678924323616)), one_hot_encoder = (fitresult = \u001b[34mOneHotEncoderResult @311\u001b[39m,), decision_tree_regressor = (tree = Decision Tree\n",
      "Leaves: 10915\n",
      "Depth:  29,), machines = Machine[\u001b[34mMachine{Standardizer,…} @759\u001b[39m, \u001b[34mMachine{OneHotEncoder,…} @643\u001b[39m, \u001b[34mMachine{DecisionTreeRegressor,…} @992\u001b[39m], fitted_params_given_machine = OrderedCollections.LittleDict{Any, Any, Vector{Any}, Vector{Any}}(\u001b[34mMachine{Standardizer,…} @759\u001b[39m => Dict(:CPI => (174.78910061423335, 39.656137408654544), :Fuel_Price => (3.6192831510619823, 0.2799605459670509), :MarkDown1 => (8822.068469509413, 9247.185701195871), :MarkDown3 => (1787.7802499300844, 10917.794131475586), :Temperature => (57.30800468066942, 18.276825620533234), :MarkDown5 => (5304.424938106243, 6538.396397750151), :MarkDown4 => (4020.609798790091, 7170.4930882228555), :MarkDown2 => (3682.778021166046, 10017.908111361498), :Unemployment => (7.413088123169314, 1.7080678924323616)), \u001b[34mMachine{OneHotEncoder,…} @643\u001b[39m => (fitresult = \u001b[34mOneHotEncoderResult @311\u001b[39m,), \u001b[34mMachine{DecisionTreeRegressor,…} @992\u001b[39m => (tree = Decision Tree\n",
      "Leaves: 10915\n",
      "Depth:  29,)))\n"
     ]
    }
   ],
   "source": [
    "fitted_params(regress) |> println"
   ]
  },
  {
   "cell_type": "code",
   "execution_count": 42,
   "id": "b8101cba",
   "metadata": {},
   "outputs": [
    {
     "data": {
      "text/plain": [
       "29117-element Vector{Float64}:\n",
       " 19319.748571428576\n",
       "    30.318\n",
       "  4699.126\n",
       " 60253.881250000006\n",
       " 39434.036666666674\n",
       "   180.21444444444444\n",
       " 20168.379999999997\n",
       "  1745.6516666666666\n",
       " 23435.325999999997\n",
       "   240.78142857142856\n",
       "  1896.6155555555556\n",
       " 29315.308\n",
       "  4451.016\n",
       "     ⋮\n",
       "  3007.53\n",
       "  3289.2033333333334\n",
       "  5873.653333333333\n",
       "   417.0\n",
       "  2820.215714285714\n",
       "  2658.9100000000003\n",
       " 73145.27625\n",
       " 52971.58499999999\n",
       " 21890.21571428571\n",
       "  8264.966\n",
       "  7331.273999999999\n",
       "  7418.4087500000005"
      ]
     },
     "execution_count": 42,
     "metadata": {},
     "output_type": "execute_result"
    }
   ],
   "source": [
    "ypred = predict(regress, rows=test)\n"
   ]
  },
  {
   "cell_type": "code",
   "execution_count": 49,
   "id": "02a00a93",
   "metadata": {},
   "outputs": [
    {
     "data": {
      "text/plain": [
       "29117-element Vector{Float64}:\n",
       " 19090.39\n",
       "    83.13\n",
       "  3187.41\n",
       " 58371.33\n",
       " 37473.21\n",
       "   144.78\n",
       " 18933.78\n",
       "  1933.25\n",
       " 21620.99\n",
       "   229.21\n",
       "  1224.0\n",
       " 25756.91\n",
       "   488.0\n",
       "     ⋮\n",
       "  2399.74\n",
       "  3015.06\n",
       "  4983.9\n",
       "  1215.0\n",
       "  2745.98\n",
       "  1091.32\n",
       " 69753.8\n",
       " 49737.78\n",
       " 24225.53\n",
       "  6267.34\n",
       "  8215.38\n",
       "  6988.66"
      ]
     },
     "execution_count": 49,
     "metadata": {},
     "output_type": "execute_result"
    }
   ],
   "source": [
    "y[test]"
   ]
  },
  {
   "cell_type": "code",
   "execution_count": 47,
   "id": "6e8e207b",
   "metadata": {},
   "outputs": [
    {
     "data": {
      "text/plain": [
       "29117-element Vector{Float64}:\n",
       "  52605.35428775738\n",
       "   2789.1073439999996\n",
       "      2.2852852646560012e6\n",
       "      3.5439992088765777e6\n",
       "      3.844841216711144e6\n",
       "   1255.5998530864192\n",
       "      1.5242371599999964e6\n",
       "  35193.13466944445\n",
       "      3.2918151208959846e6\n",
       "    133.8979591836731\n",
       " 452411.6855753087\n",
       "      1.2662196326404007e7\n",
       "      1.5705495816255998e7\n",
       "      ⋮\n",
       " 369408.68410000054\n",
       "  75154.56721111116\n",
       " 791660.9941777773\n",
       " 636804.0\n",
       "   5510.9412755101675\n",
       "      2.457338408100001e6\n",
       "      1.1502111154314011e7\n",
       "      1.0457494778024955e7\n",
       "      5.453692813061237e6\n",
       "      3.990509635876001e6\n",
       " 781643.4192359996\n",
       " 184683.98812656305"
      ]
     },
     "execution_count": 47,
     "metadata": {},
     "output_type": "execute_result"
    }
   ],
   "source": [
    "LossFunctions.value(L2DistLoss(), y[test], ypred)"
   ]
  },
  {
   "cell_type": "code",
   "execution_count": null,
   "id": "7cbf623c",
   "metadata": {},
   "outputs": [],
   "source": []
  }
 ],
 "metadata": {
  "kernelspec": {
   "display_name": "Julia 1.6.0",
   "language": "julia",
   "name": "julia-1.6"
  },
  "language_info": {
   "file_extension": ".jl",
   "mimetype": "application/julia",
   "name": "julia",
   "version": "1.6.1"
  }
 },
 "nbformat": 4,
 "nbformat_minor": 5
}
