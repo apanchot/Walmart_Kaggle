{
 "cells": [
  {
   "cell_type": "code",
   "execution_count": 286,
   "id": "64f610d8",
   "metadata": {},
   "outputs": [],
   "source": [
    "import Impute\n",
    "using Plots\n",
    "using DataFrames\n",
    "import CSV\n",
    "using MLJ\n",
    "using LossFunctions\n",
    "import FileIO\n",
    "using Missings\n",
    "using StatsBase"
   ]
  },
  {
   "cell_type": "markdown",
   "id": "d16ddb9f",
   "metadata": {},
   "source": [
    "# Load"
   ]
  },
  {
   "cell_type": "code",
   "execution_count": 315,
   "id": "21c32959",
   "metadata": {},
   "outputs": [],
   "source": [
    "features = DataFrame(CSV.File(\"features.csv\",missingstring=\"missing\"));\n",
    "train = DataFrame(CSV.File(\"train.csv\"));\n",
    "test = DataFrame(CSV.File(\"test.csv\"));\n",
    "stores = DataFrame(CSV.File(\"stores.csv\"));\n",
    "features.StoreType = stores[features.Store,:Type];\n",
    "features.Size = stores[features.Store,:Size];\n",
    "features.Id1 = string.(features.Store,\"_\",features.Date);\n",
    "select!(features, Not([:Store,:Date]));"
   ]
  },
  {
   "cell_type": "code",
   "execution_count": 316,
   "id": "05ed9e0f",
   "metadata": {},
   "outputs": [],
   "source": [
    "\n",
    "train.Id1 = string.(train.Store,\"_\",train.Date);\n",
    "\n",
    "test.Id1 = string.(test.Store,\"_\",test.Date);\n"
   ]
  },
  {
   "cell_type": "code",
   "execution_count": 317,
   "id": "ee4f9588",
   "metadata": {},
   "outputs": [],
   "source": [
    "train = innerjoin(features,train,on=:Id1,makeunique=true)\n",
    "train.Id = string.(train.Store,\"_\",train.Dept,\"_\",train.Date);\n",
    "select!(train, Not([:Id1,:IsHoliday_1]));\n",
    "train;"
   ]
  },
  {
   "cell_type": "code",
   "execution_count": 318,
   "id": "bac6a1aa",
   "metadata": {},
   "outputs": [],
   "source": [
    "test = innerjoin(features,test,on=:Id1,makeunique=true)\n",
    "test.Id = string.(test.Store,\"_\",test.Dept,\"_\",test.Date);\n",
    "select!(test, Not([:Id1,:IsHoliday_1]));\n",
    "test;"
   ]
  },
  {
   "cell_type": "code",
   "execution_count": 319,
   "id": "affe9d1f",
   "metadata": {},
   "outputs": [],
   "source": [
    "train = coerce(train, :StoreType => Multiclass);\n",
    "test = coerce(test, :StoreType => Multiclass);"
   ]
  },
  {
   "cell_type": "code",
   "execution_count": 320,
   "id": "91b9f737",
   "metadata": {},
   "outputs": [
    {
     "data": {
      "text/plain": [
       "┌──────────────┬──────────────────────────────────┬─────────────────────────────\n",
       "│\u001b[22m _.names      \u001b[0m│\u001b[22m _.types                          \u001b[0m│\u001b[22m _.scitypes                \u001b[0m ⋯\n",
       "├──────────────┼──────────────────────────────────┼─────────────────────────────\n",
       "│ Temperature  │ Float64                          │ Continuous                 ⋯\n",
       "│ Fuel_Price   │ Float64                          │ Continuous                 ⋯\n",
       "│ MarkDown1    │ Union{Missing, Float64}          │ Union{Missing, Continuous} ⋯\n",
       "│ MarkDown2    │ Union{Missing, Float64}          │ Union{Missing, Continuous} ⋯\n",
       "│ MarkDown3    │ Union{Missing, Float64}          │ Union{Missing, Continuous} ⋯\n",
       "│ MarkDown4    │ Union{Missing, Float64}          │ Union{Missing, Continuous} ⋯\n",
       "│ MarkDown5    │ Union{Missing, Float64}          │ Union{Missing, Continuous} ⋯\n",
       "│ CPI          │ Union{Missing, Float64}          │ Union{Missing, Continuous} ⋯\n",
       "│ Unemployment │ Union{Missing, Float64}          │ Union{Missing, Continuous} ⋯\n",
       "│ IsHoliday    │ Bool                             │ Count                      ⋯\n",
       "│ StoreType    │ CategoricalValue{String, UInt32} │ Multiclass{3}              ⋯\n",
       "│ Size         │ Int64                            │ Count                      ⋯\n",
       "│ Store        │ Int64                            │ Count                      ⋯\n",
       "│ Dept         │ Int64                            │ Count                      ⋯\n",
       "│ Date         │ Date                             │ ScientificDate             ⋯\n",
       "│ Weekly_Sales │ Float64                          │ Continuous                 ⋯\n",
       "│ Id           │ String                           │ Textual                    ⋯\n",
       "└──────────────┴──────────────────────────────────┴─────────────────────────────\n",
       "_.nrows = 421570\n"
      ]
     },
     "execution_count": 320,
     "metadata": {},
     "output_type": "execute_result"
    }
   ],
   "source": [
    "schema(train)"
   ]
  },
  {
   "cell_type": "markdown",
   "id": "aa1ede6f",
   "metadata": {},
   "source": [
    "# Describe"
   ]
  },
  {
   "cell_type": "code",
   "execution_count": 321,
   "id": "4a3f9ff0",
   "metadata": {},
   "outputs": [
    {
     "data": {
      "text/html": [
       "<table class=\"data-frame\"><thead><tr><th></th><th>variable</th><th>mean</th><th>min</th><th>median</th><th>max</th><th>nmissing</th><th>eltype</th></tr><tr><th></th><th>Symbol</th><th>Union…</th><th>Any</th><th>Union…</th><th>Any</th><th>Int64</th><th>Union</th></tr></thead><tbody><p>17 rows × 7 columns</p><tr><th>1</th><td>Temperature</td><td>60.0901</td><td>-2.06</td><td>62.09</td><td>100.14</td><td>0</td><td>Union{Missing, Float64}</td></tr><tr><th>2</th><td>Fuel_Price</td><td>3.36103</td><td>2.472</td><td>3.452</td><td>4.468</td><td>0</td><td>Union{Missing, Float64}</td></tr><tr><th>3</th><td>MarkDown1</td><td>7246.42</td><td>0.27</td><td>5347.45</td><td>88646.8</td><td>270889</td><td>Union{Missing, Float64}</td></tr><tr><th>4</th><td>MarkDown2</td><td>3334.63</td><td>-265.76</td><td>192.0</td><td>1.0452e5</td><td>310322</td><td>Union{Missing, Float64}</td></tr><tr><th>5</th><td>MarkDown3</td><td>1439.42</td><td>-29.1</td><td>24.6</td><td>1.41631e5</td><td>284479</td><td>Union{Missing, Float64}</td></tr><tr><th>6</th><td>MarkDown4</td><td>3383.17</td><td>0.22</td><td>1481.31</td><td>67474.9</td><td>286603</td><td>Union{Missing, Float64}</td></tr><tr><th>7</th><td>MarkDown5</td><td>4628.98</td><td>135.16</td><td>3359.45</td><td>1.08519e5</td><td>270138</td><td>Union{Missing, Float64}</td></tr><tr><th>8</th><td>CPI</td><td>171.202</td><td>126.064</td><td>182.319</td><td>227.233</td><td>0</td><td>Union{Missing, Float64}</td></tr><tr><th>9</th><td>Unemployment</td><td>7.96029</td><td>3.879</td><td>7.866</td><td>14.313</td><td>0</td><td>Union{Missing, Float64}</td></tr><tr><th>10</th><td>IsHoliday</td><td>0.0703584</td><td>0</td><td>0.0</td><td>1</td><td>0</td><td>Union{Missing, Bool}</td></tr><tr><th>11</th><td>StoreType</td><td></td><td>A</td><td></td><td>C</td><td>0</td><td>Union{Missing, CategoricalValue{String, UInt32}}</td></tr><tr><th>12</th><td>Size</td><td>1.36728e5</td><td>34875</td><td>140167.0</td><td>219622</td><td>0</td><td>Union{Missing, Int64}</td></tr><tr><th>13</th><td>Store</td><td>22.2005</td><td>1</td><td>22.0</td><td>45</td><td>0</td><td>Union{Missing, Int64}</td></tr><tr><th>14</th><td>Dept</td><td>44.2603</td><td>1</td><td>37.0</td><td>99</td><td>0</td><td>Union{Missing, Int64}</td></tr><tr><th>15</th><td>Date</td><td></td><td>2010-02-05</td><td></td><td>2012-10-26</td><td>0</td><td>Union{Missing, Date}</td></tr><tr><th>16</th><td>Weekly_Sales</td><td>15981.3</td><td>-4988.94</td><td>7612.03</td><td>6.93099e5</td><td>0</td><td>Union{Missing, Float64}</td></tr><tr><th>17</th><td>Id</td><td></td><td>10_10_2010-02-05</td><td></td><td>9_9_2012-10-26</td><td>0</td><td>Union{Missing, String}</td></tr></tbody></table>"
      ],
      "text/latex": [
       "\\begin{tabular}{r|ccccccc}\n",
       "\t& variable & mean & min & median & max & nmissing & eltype\\\\\n",
       "\t\\hline\n",
       "\t& Symbol & Union… & Any & Union… & Any & Int64 & Union\\\\\n",
       "\t\\hline\n",
       "\t1 & Temperature & 60.0901 & -2.06 & 62.09 & 100.14 & 0 & Union\\{Missing, Float64\\} \\\\\n",
       "\t2 & Fuel\\_Price & 3.36103 & 2.472 & 3.452 & 4.468 & 0 & Union\\{Missing, Float64\\} \\\\\n",
       "\t3 & MarkDown1 & 7246.42 & 0.27 & 5347.45 & 88646.8 & 270889 & Union\\{Missing, Float64\\} \\\\\n",
       "\t4 & MarkDown2 & 3334.63 & -265.76 & 192.0 & 1.0452e5 & 310322 & Union\\{Missing, Float64\\} \\\\\n",
       "\t5 & MarkDown3 & 1439.42 & -29.1 & 24.6 & 1.41631e5 & 284479 & Union\\{Missing, Float64\\} \\\\\n",
       "\t6 & MarkDown4 & 3383.17 & 0.22 & 1481.31 & 67474.9 & 286603 & Union\\{Missing, Float64\\} \\\\\n",
       "\t7 & MarkDown5 & 4628.98 & 135.16 & 3359.45 & 1.08519e5 & 270138 & Union\\{Missing, Float64\\} \\\\\n",
       "\t8 & CPI & 171.202 & 126.064 & 182.319 & 227.233 & 0 & Union\\{Missing, Float64\\} \\\\\n",
       "\t9 & Unemployment & 7.96029 & 3.879 & 7.866 & 14.313 & 0 & Union\\{Missing, Float64\\} \\\\\n",
       "\t10 & IsHoliday & 0.0703584 & 0 & 0.0 & 1 & 0 & Union\\{Missing, Bool\\} \\\\\n",
       "\t11 & StoreType &  & A &  & C & 0 & Union\\{Missing, CategoricalValue\\{String, UInt32\\}\\} \\\\\n",
       "\t12 & Size & 1.36728e5 & 34875 & 140167.0 & 219622 & 0 & Union\\{Missing, Int64\\} \\\\\n",
       "\t13 & Store & 22.2005 & 1 & 22.0 & 45 & 0 & Union\\{Missing, Int64\\} \\\\\n",
       "\t14 & Dept & 44.2603 & 1 & 37.0 & 99 & 0 & Union\\{Missing, Int64\\} \\\\\n",
       "\t15 & Date &  & 2010-02-05 &  & 2012-10-26 & 0 & Union\\{Missing, Date\\} \\\\\n",
       "\t16 & Weekly\\_Sales & 15981.3 & -4988.94 & 7612.03 & 6.93099e5 & 0 & Union\\{Missing, Float64\\} \\\\\n",
       "\t17 & Id &  & 10\\_10\\_2010-02-05 &  & 9\\_9\\_2012-10-26 & 0 & Union\\{Missing, String\\} \\\\\n",
       "\\end{tabular}\n"
      ],
      "text/plain": [
       "\u001b[1m17×7 DataFrame\u001b[0m\n",
       "\u001b[1m Row \u001b[0m│\u001b[1m variable     \u001b[0m\u001b[1m mean      \u001b[0m\u001b[1m min              \u001b[0m\u001b[1m median   \u001b[0m\u001b[1m max            \u001b[0m\u001b[1m nm\u001b[0m ⋯\n",
       "\u001b[1m     \u001b[0m│\u001b[90m Symbol       \u001b[0m\u001b[90m Union…    \u001b[0m\u001b[90m Any              \u001b[0m\u001b[90m Union…   \u001b[0m\u001b[90m Any            \u001b[0m\u001b[90m In\u001b[0m ⋯\n",
       "─────┼──────────────────────────────────────────────────────────────────────────\n",
       "   1 │ Temperature   60.0901    -2.06             62.09     100.14             ⋯\n",
       "   2 │ Fuel_Price    3.36103    2.472             3.452     4.468\n",
       "   3 │ MarkDown1     7246.42    0.27              5347.45   88646.8\n",
       "   4 │ MarkDown2     3334.63    -265.76           192.0     1.0452e5\n",
       "   5 │ MarkDown3     1439.42    -29.1             24.6      1.41631e5          ⋯\n",
       "   6 │ MarkDown4     3383.17    0.22              1481.31   67474.9\n",
       "   7 │ MarkDown5     4628.98    135.16            3359.45   1.08519e5\n",
       "   8 │ CPI           171.202    126.064           182.319   227.233\n",
       "   9 │ Unemployment  7.96029    3.879             7.866     14.313             ⋯\n",
       "  10 │ IsHoliday     0.0703584  false             0.0       true\n",
       "  11 │ StoreType    \u001b[90m           \u001b[0m A                \u001b[90m          \u001b[0m C\n",
       "  12 │ Size          1.36728e5  34875             140167.0  219622\n",
       "  13 │ Store         22.2005    1                 22.0      45                 ⋯\n",
       "  14 │ Dept          44.2603    1                 37.0      99\n",
       "  15 │ Date         \u001b[90m           \u001b[0m 2010-02-05       \u001b[90m          \u001b[0m 2012-10-26\n",
       "  16 │ Weekly_Sales  15981.3    -4988.94          7612.03   6.93099e5\n",
       "  17 │ Id           \u001b[90m           \u001b[0m 10_10_2010-02-05 \u001b[90m          \u001b[0m 9_9_2012-10-26     ⋯\n",
       "\u001b[36m                                                               2 columns omitted\u001b[0m"
      ]
     },
     "execution_count": 321,
     "metadata": {},
     "output_type": "execute_result"
    }
   ],
   "source": [
    "describe(allowmissing(train))"
   ]
  },
  {
   "cell_type": "code",
   "execution_count": 322,
   "id": "ae9bd4c8",
   "metadata": {},
   "outputs": [
    {
     "data": {
      "text/html": [
       "<table class=\"data-frame\"><thead><tr><th></th><th>variable</th><th>mean</th><th>min</th><th>median</th><th>max</th><th>nmissing</th><th>eltype</th></tr><tr><th></th><th>Symbol</th><th>Union…</th><th>Any</th><th>Union…</th><th>Any</th><th>Int64</th><th>Union</th></tr></thead><tbody><p>16 rows × 7 columns</p><tr><th>1</th><td>Temperature</td><td>53.9418</td><td>-7.29</td><td>54.47</td><td>101.95</td><td>0</td><td>Union{Missing, Float64}</td></tr><tr><th>2</th><td>Fuel_Price</td><td>3.58155</td><td>2.872</td><td>3.606</td><td>4.125</td><td>0</td><td>Union{Missing, Float64}</td></tr><tr><th>3</th><td>MarkDown1</td><td>7689.22</td><td>-2781.45</td><td>4842.29</td><td>103185.0</td><td>149</td><td>Union{Missing, Float64}</td></tr><tr><th>4</th><td>MarkDown2</td><td>3734.05</td><td>-35.74</td><td>742.59</td><td>71074.2</td><td>28627</td><td>Union{Missing, Float64}</td></tr><tr><th>5</th><td>MarkDown3</td><td>2403.09</td><td>-179.26</td><td>78.26</td><td>1.49483e5</td><td>9829</td><td>Union{Missing, Float64}</td></tr><tr><th>6</th><td>MarkDown4</td><td>3356.22</td><td>0.22</td><td>840.94</td><td>65344.6</td><td>12888</td><td>Union{Missing, Float64}</td></tr><tr><th>7</th><td>MarkDown5</td><td>3922.68</td><td>-185.17</td><td>2390.43</td><td>7.71448e5</td><td>0</td><td>Union{Missing, Float64}</td></tr><tr><th>8</th><td>CPI</td><td>176.961</td><td>131.236</td><td>192.304</td><td>228.976</td><td>38162</td><td>Union{Missing, Float64}</td></tr><tr><th>9</th><td>Unemployment</td><td>6.86873</td><td>3.684</td><td>6.806</td><td>10.199</td><td>38162</td><td>Union{Missing, Float64}</td></tr><tr><th>10</th><td>IsHoliday</td><td>0.0775916</td><td>0</td><td>0.0</td><td>1</td><td>0</td><td>Union{Missing, Bool}</td></tr><tr><th>11</th><td>StoreType</td><td></td><td>A</td><td></td><td>C</td><td>0</td><td>Union{Missing, CategoricalValue{String, UInt32}}</td></tr><tr><th>12</th><td>Size</td><td>1.36498e5</td><td>34875</td><td>140167.0</td><td>219622</td><td>0</td><td>Union{Missing, Int64}</td></tr><tr><th>13</th><td>Store</td><td>22.2382</td><td>1</td><td>22.0</td><td>45</td><td>0</td><td>Union{Missing, Int64}</td></tr><tr><th>14</th><td>Dept</td><td>44.3395</td><td>1</td><td>37.0</td><td>99</td><td>0</td><td>Union{Missing, Int64}</td></tr><tr><th>15</th><td>Date</td><td></td><td>2012-11-02</td><td></td><td>2013-07-26</td><td>0</td><td>Union{Missing, Date}</td></tr><tr><th>16</th><td>Id</td><td></td><td>10_10_2012-11-02</td><td></td><td>9_9_2013-07-26</td><td>0</td><td>Union{Missing, String}</td></tr></tbody></table>"
      ],
      "text/latex": [
       "\\begin{tabular}{r|ccccccc}\n",
       "\t& variable & mean & min & median & max & nmissing & eltype\\\\\n",
       "\t\\hline\n",
       "\t& Symbol & Union… & Any & Union… & Any & Int64 & Union\\\\\n",
       "\t\\hline\n",
       "\t1 & Temperature & 53.9418 & -7.29 & 54.47 & 101.95 & 0 & Union\\{Missing, Float64\\} \\\\\n",
       "\t2 & Fuel\\_Price & 3.58155 & 2.872 & 3.606 & 4.125 & 0 & Union\\{Missing, Float64\\} \\\\\n",
       "\t3 & MarkDown1 & 7689.22 & -2781.45 & 4842.29 & 103185.0 & 149 & Union\\{Missing, Float64\\} \\\\\n",
       "\t4 & MarkDown2 & 3734.05 & -35.74 & 742.59 & 71074.2 & 28627 & Union\\{Missing, Float64\\} \\\\\n",
       "\t5 & MarkDown3 & 2403.09 & -179.26 & 78.26 & 1.49483e5 & 9829 & Union\\{Missing, Float64\\} \\\\\n",
       "\t6 & MarkDown4 & 3356.22 & 0.22 & 840.94 & 65344.6 & 12888 & Union\\{Missing, Float64\\} \\\\\n",
       "\t7 & MarkDown5 & 3922.68 & -185.17 & 2390.43 & 7.71448e5 & 0 & Union\\{Missing, Float64\\} \\\\\n",
       "\t8 & CPI & 176.961 & 131.236 & 192.304 & 228.976 & 38162 & Union\\{Missing, Float64\\} \\\\\n",
       "\t9 & Unemployment & 6.86873 & 3.684 & 6.806 & 10.199 & 38162 & Union\\{Missing, Float64\\} \\\\\n",
       "\t10 & IsHoliday & 0.0775916 & 0 & 0.0 & 1 & 0 & Union\\{Missing, Bool\\} \\\\\n",
       "\t11 & StoreType &  & A &  & C & 0 & Union\\{Missing, CategoricalValue\\{String, UInt32\\}\\} \\\\\n",
       "\t12 & Size & 1.36498e5 & 34875 & 140167.0 & 219622 & 0 & Union\\{Missing, Int64\\} \\\\\n",
       "\t13 & Store & 22.2382 & 1 & 22.0 & 45 & 0 & Union\\{Missing, Int64\\} \\\\\n",
       "\t14 & Dept & 44.3395 & 1 & 37.0 & 99 & 0 & Union\\{Missing, Int64\\} \\\\\n",
       "\t15 & Date &  & 2012-11-02 &  & 2013-07-26 & 0 & Union\\{Missing, Date\\} \\\\\n",
       "\t16 & Id &  & 10\\_10\\_2012-11-02 &  & 9\\_9\\_2013-07-26 & 0 & Union\\{Missing, String\\} \\\\\n",
       "\\end{tabular}\n"
      ],
      "text/plain": [
       "\u001b[1m16×7 DataFrame\u001b[0m\n",
       "\u001b[1m Row \u001b[0m│\u001b[1m variable     \u001b[0m\u001b[1m mean      \u001b[0m\u001b[1m min              \u001b[0m\u001b[1m median   \u001b[0m\u001b[1m max            \u001b[0m\u001b[1m nm\u001b[0m ⋯\n",
       "\u001b[1m     \u001b[0m│\u001b[90m Symbol       \u001b[0m\u001b[90m Union…    \u001b[0m\u001b[90m Any              \u001b[0m\u001b[90m Union…   \u001b[0m\u001b[90m Any            \u001b[0m\u001b[90m In\u001b[0m ⋯\n",
       "─────┼──────────────────────────────────────────────────────────────────────────\n",
       "   1 │ Temperature   53.9418    -7.29             54.47     101.95             ⋯\n",
       "   2 │ Fuel_Price    3.58155    2.872             3.606     4.125\n",
       "   3 │ MarkDown1     7689.22    -2781.45          4842.29   103185.0\n",
       "   4 │ MarkDown2     3734.05    -35.74            742.59    71074.2\n",
       "   5 │ MarkDown3     2403.09    -179.26           78.26     1.49483e5          ⋯\n",
       "   6 │ MarkDown4     3356.22    0.22              840.94    65344.6\n",
       "   7 │ MarkDown5     3922.68    -185.17           2390.43   7.71448e5\n",
       "   8 │ CPI           176.961    131.236           192.304   228.976\n",
       "   9 │ Unemployment  6.86873    3.684             6.806     10.199             ⋯\n",
       "  10 │ IsHoliday     0.0775916  false             0.0       true\n",
       "  11 │ StoreType    \u001b[90m           \u001b[0m A                \u001b[90m          \u001b[0m C\n",
       "  12 │ Size          1.36498e5  34875             140167.0  219622\n",
       "  13 │ Store         22.2382    1                 22.0      45                 ⋯\n",
       "  14 │ Dept          44.3395    1                 37.0      99\n",
       "  15 │ Date         \u001b[90m           \u001b[0m 2012-11-02       \u001b[90m          \u001b[0m 2013-07-26\n",
       "  16 │ Id           \u001b[90m           \u001b[0m 10_10_2012-11-02 \u001b[90m          \u001b[0m 9_9_2013-07-26\n",
       "\u001b[36m                                                               2 columns omitted\u001b[0m"
      ]
     },
     "execution_count": 322,
     "metadata": {},
     "output_type": "execute_result"
    }
   ],
   "source": [
    "describe(allowmissing(test))"
   ]
  },
  {
   "cell_type": "markdown",
   "id": "593e9679",
   "metadata": {},
   "source": [
    "# Impute"
   ]
  },
  {
   "cell_type": "code",
   "execution_count": 323,
   "id": "53765c47",
   "metadata": {},
   "outputs": [],
   "source": [
    "a=hcat( allowmissing(train)[:,1:10],allowmissing(train)[:,12:14],allowmissing(train)[:,16] )\n",
    "a=Matrix(a)\n",
    "a=Impute.svd(a) # could try knn\n",
    "train[:,3:7] = a[:,3:7];\n"
   ]
  },
  {
   "cell_type": "code",
   "execution_count": 324,
   "id": "05779fcf",
   "metadata": {},
   "outputs": [],
   "source": [
    "a=hcat( allowmissing(test)[:,1:10],allowmissing(test)[:,12:14] )\n",
    "a=Matrix(a)\n",
    "a=Impute.svd(a)\n",
    "test[:,3:6] = a[:,3:6];\n",
    "test[:,8:9] = a[:,8:9];"
   ]
  },
  {
   "cell_type": "code",
   "execution_count": 325,
   "id": "a7e99f1e",
   "metadata": {},
   "outputs": [],
   "source": [
    "# train = Impute.filter(train; dims=:rows) # drop missing rows\n",
    "# test = Impute.filter(test; dims=:rows) # drop missing rows\n",
    "# # train = Impute.substitute(train) # substitute (somehow!?) missing data"
   ]
  },
  {
   "cell_type": "code",
   "execution_count": 326,
   "id": "9183b42e",
   "metadata": {},
   "outputs": [
    {
     "data": {
      "text/html": [
       "<table class=\"data-frame\"><thead><tr><th></th><th>Temperature</th><th>Fuel_Price</th><th>MarkDown1</th><th>MarkDown2</th><th>MarkDown3</th><th>MarkDown4</th><th>MarkDown5</th></tr><tr><th></th><th>Float64</th><th>Float64</th><th>Float64</th><th>Float64</th><th>Float64</th><th>Float64</th><th>Float64</th></tr></thead><tbody><p>115,064 rows × 16 columns (omitted printing of 9 columns)</p><tr><th>1</th><td>55.32</td><td>3.386</td><td>6766.44</td><td>5147.7</td><td>50.82</td><td>3639.9</td><td>2737.42</td></tr><tr><th>2</th><td>61.24</td><td>3.314</td><td>11421.3</td><td>3370.89</td><td>40.28</td><td>4646.79</td><td>6154.16</td></tr><tr><th>3</th><td>52.92</td><td>3.252</td><td>9696.28</td><td>292.1</td><td>103.78</td><td>1133.15</td><td>6612.69</td></tr><tr><th>4</th><td>56.23</td><td>3.211</td><td>883.59</td><td>4.17</td><td>74910.3</td><td>209.91</td><td>303.32</td></tr><tr><th>5</th><td>52.34</td><td>3.207</td><td>2460.03</td><td>4134.92</td><td>3838.35</td><td>150.57</td><td>6966.34</td></tr><tr><th>6</th><td>64.12</td><td>3.198</td><td>6343.16</td><td>3973.76</td><td>270.0</td><td>2928.9</td><td>10147.9</td></tr><tr><th>7</th><td>48.89</td><td>3.168</td><td>3504.83</td><td>4256.4</td><td>73.26</td><td>1636.8</td><td>2779.6</td></tr><tr><th>8</th><td>56.02</td><td>3.098</td><td>8231.71</td><td>4364.88</td><td>274.0</td><td>358.15</td><td>2834.02</td></tr><tr><th>9</th><td>44.79</td><td>3.108</td><td>12659.5</td><td>37101.1</td><td>174.78</td><td>74.46</td><td>1208.86</td></tr><tr><th>10</th><td>41.73</td><td>3.161</td><td>1214.08</td><td>25366.3</td><td>15.01</td><td>72.36</td><td>3940.02</td></tr><tr><th>11</th><td>50.32</td><td>3.243</td><td>6520.24</td><td>16134.6</td><td>12.17</td><td>774.55</td><td>4001.25</td></tr><tr><th>12</th><td>42.92</td><td>3.237</td><td>3772.69</td><td>3559.46</td><td>3.88</td><td>246.62</td><td>1900.4</td></tr><tr><th>13</th><td>53.37</td><td>3.227</td><td>965.89</td><td>1097.91</td><td>0.1</td><td>225.36</td><td>1831.88</td></tr><tr><th>14</th><td>56.46</td><td>3.244</td><td>9290.91</td><td>1359.9</td><td>265.0</td><td>20657.8</td><td>972.61</td></tr><tr><th>15</th><td>56.67</td><td>3.417</td><td>32355.2</td><td>729.8</td><td>280.89</td><td>20426.6</td><td>4671.78</td></tr><tr><th>16</th><td>49.66</td><td>3.475</td><td>72937.3</td><td>6665.52</td><td>47.21</td><td>13014.7</td><td>6310.18</td></tr><tr><th>17</th><td>50.25</td><td>3.597</td><td>20107.8</td><td>3163.89</td><td>42.2</td><td>15657.3</td><td>5812.86</td></tr><tr><th>18</th><td>48.01</td><td>3.711</td><td>10610.7</td><td>261.46</td><td>2.8</td><td>25.54</td><td>2747.59</td></tr><tr><th>19</th><td>50.81</td><td>3.658</td><td>5000.58</td><td>290.46</td><td>78.77</td><td>606.15</td><td>3697.11</td></tr><tr><th>20</th><td>55.33</td><td>3.622</td><td>3808.13</td><td>4150.64</td><td>15.65</td><td>2616.6</td><td>1909.17</td></tr><tr><th>21</th><td>63.42</td><td>3.611</td><td>12554.0</td><td>3545.68</td><td>495.1</td><td>6787.75</td><td>2545.66</td></tr><tr><th>22</th><td>51.0</td><td>3.606</td><td>13067.5</td><td>4339.52</td><td>384.9</td><td>122.93</td><td>3903.8</td></tr><tr><th>23</th><td>58.59</td><td>3.583</td><td>12872.3</td><td>5687.86</td><td>485.97</td><td>478.04</td><td>5092.33</td></tr><tr><th>24</th><td>62.72</td><td>3.529</td><td>3672.43</td><td>932.58</td><td>52.86</td><td>949.07</td><td>2836.64</td></tr><tr><th>25</th><td>67.1</td><td>3.451</td><td>3530.36</td><td>3.95</td><td>107.5</td><td>458.76</td><td>2062.05</td></tr><tr><th>26</th><td>59.23</td><td>3.417</td><td>2387.72</td><td>4415.16</td><td>98.34</td><td>516.28</td><td>1421.63</td></tr><tr><th>27</th><td>66.66</td><td>3.386</td><td>2298.63</td><td>2.0</td><td>129.9</td><td>55.46</td><td>1301.04</td></tr><tr><th>28</th><td>63.9</td><td>3.392</td><td>4624.61</td><td>83.88</td><td>42.38</td><td>1618.31</td><td>8144.9</td></tr><tr><th>29</th><td>69.53</td><td>3.454</td><td>16170.5</td><td>92.0</td><td>8.32</td><td>4127.24</td><td>6206.97</td></tr><tr><th>30</th><td>77.19</td><td>3.494</td><td>7959.89</td><td>178.0</td><td>1621.47</td><td>3152.57</td><td>2938.7</td></tr><tr><th>&vellip;</th><td>&vellip;</td><td>&vellip;</td><td>&vellip;</td><td>&vellip;</td><td>&vellip;</td><td>&vellip;</td><td>&vellip;</td></tr></tbody></table>"
      ],
      "text/latex": [
       "\\begin{tabular}{r|cccccccc}\n",
       "\t& Temperature & Fuel\\_Price & MarkDown1 & MarkDown2 & MarkDown3 & MarkDown4 & MarkDown5 & \\\\\n",
       "\t\\hline\n",
       "\t& Float64 & Float64 & Float64 & Float64 & Float64 & Float64 & Float64 & \\\\\n",
       "\t\\hline\n",
       "\t1 & 55.32 & 3.386 & 6766.44 & 5147.7 & 50.82 & 3639.9 & 2737.42 & $\\dots$ \\\\\n",
       "\t2 & 61.24 & 3.314 & 11421.3 & 3370.89 & 40.28 & 4646.79 & 6154.16 & $\\dots$ \\\\\n",
       "\t3 & 52.92 & 3.252 & 9696.28 & 292.1 & 103.78 & 1133.15 & 6612.69 & $\\dots$ \\\\\n",
       "\t4 & 56.23 & 3.211 & 883.59 & 4.17 & 74910.3 & 209.91 & 303.32 & $\\dots$ \\\\\n",
       "\t5 & 52.34 & 3.207 & 2460.03 & 4134.92 & 3838.35 & 150.57 & 6966.34 & $\\dots$ \\\\\n",
       "\t6 & 64.12 & 3.198 & 6343.16 & 3973.76 & 270.0 & 2928.9 & 10147.9 & $\\dots$ \\\\\n",
       "\t7 & 48.89 & 3.168 & 3504.83 & 4256.4 & 73.26 & 1636.8 & 2779.6 & $\\dots$ \\\\\n",
       "\t8 & 56.02 & 3.098 & 8231.71 & 4364.88 & 274.0 & 358.15 & 2834.02 & $\\dots$ \\\\\n",
       "\t9 & 44.79 & 3.108 & 12659.5 & 37101.1 & 174.78 & 74.46 & 1208.86 & $\\dots$ \\\\\n",
       "\t10 & 41.73 & 3.161 & 1214.08 & 25366.3 & 15.01 & 72.36 & 3940.02 & $\\dots$ \\\\\n",
       "\t11 & 50.32 & 3.243 & 6520.24 & 16134.6 & 12.17 & 774.55 & 4001.25 & $\\dots$ \\\\\n",
       "\t12 & 42.92 & 3.237 & 3772.69 & 3559.46 & 3.88 & 246.62 & 1900.4 & $\\dots$ \\\\\n",
       "\t13 & 53.37 & 3.227 & 965.89 & 1097.91 & 0.1 & 225.36 & 1831.88 & $\\dots$ \\\\\n",
       "\t14 & 56.46 & 3.244 & 9290.91 & 1359.9 & 265.0 & 20657.8 & 972.61 & $\\dots$ \\\\\n",
       "\t15 & 56.67 & 3.417 & 32355.2 & 729.8 & 280.89 & 20426.6 & 4671.78 & $\\dots$ \\\\\n",
       "\t16 & 49.66 & 3.475 & 72937.3 & 6665.52 & 47.21 & 13014.7 & 6310.18 & $\\dots$ \\\\\n",
       "\t17 & 50.25 & 3.597 & 20107.8 & 3163.89 & 42.2 & 15657.3 & 5812.86 & $\\dots$ \\\\\n",
       "\t18 & 48.01 & 3.711 & 10610.7 & 261.46 & 2.8 & 25.54 & 2747.59 & $\\dots$ \\\\\n",
       "\t19 & 50.81 & 3.658 & 5000.58 & 290.46 & 78.77 & 606.15 & 3697.11 & $\\dots$ \\\\\n",
       "\t20 & 55.33 & 3.622 & 3808.13 & 4150.64 & 15.65 & 2616.6 & 1909.17 & $\\dots$ \\\\\n",
       "\t21 & 63.42 & 3.611 & 12554.0 & 3545.68 & 495.1 & 6787.75 & 2545.66 & $\\dots$ \\\\\n",
       "\t22 & 51.0 & 3.606 & 13067.5 & 4339.52 & 384.9 & 122.93 & 3903.8 & $\\dots$ \\\\\n",
       "\t23 & 58.59 & 3.583 & 12872.3 & 5687.86 & 485.97 & 478.04 & 5092.33 & $\\dots$ \\\\\n",
       "\t24 & 62.72 & 3.529 & 3672.43 & 932.58 & 52.86 & 949.07 & 2836.64 & $\\dots$ \\\\\n",
       "\t25 & 67.1 & 3.451 & 3530.36 & 3.95 & 107.5 & 458.76 & 2062.05 & $\\dots$ \\\\\n",
       "\t26 & 59.23 & 3.417 & 2387.72 & 4415.16 & 98.34 & 516.28 & 1421.63 & $\\dots$ \\\\\n",
       "\t27 & 66.66 & 3.386 & 2298.63 & 2.0 & 129.9 & 55.46 & 1301.04 & $\\dots$ \\\\\n",
       "\t28 & 63.9 & 3.392 & 4624.61 & 83.88 & 42.38 & 1618.31 & 8144.9 & $\\dots$ \\\\\n",
       "\t29 & 69.53 & 3.454 & 16170.5 & 92.0 & 8.32 & 4127.24 & 6206.97 & $\\dots$ \\\\\n",
       "\t30 & 77.19 & 3.494 & 7959.89 & 178.0 & 1621.47 & 3152.57 & 2938.7 & $\\dots$ \\\\\n",
       "\t$\\dots$ & $\\dots$ & $\\dots$ & $\\dots$ & $\\dots$ & $\\dots$ & $\\dots$ & $\\dots$ &  \\\\\n",
       "\\end{tabular}\n"
      ],
      "text/plain": [
       "\u001b[1m115064×16 DataFrame\u001b[0m\n",
       "\u001b[1m    Row \u001b[0m│\u001b[1m Temperature \u001b[0m\u001b[1m Fuel_Price \u001b[0m\u001b[1m MarkDown1 \u001b[0m\u001b[1m MarkDown2 \u001b[0m\u001b[1m MarkDown3 \u001b[0m\u001b[1m MarkDown4 \u001b[0m\u001b[1m\u001b[0m ⋯\n",
       "\u001b[1m        \u001b[0m│\u001b[90m Float64     \u001b[0m\u001b[90m Float64    \u001b[0m\u001b[90m Float64   \u001b[0m\u001b[90m Float64   \u001b[0m\u001b[90m Float64   \u001b[0m\u001b[90m Float64   \u001b[0m\u001b[90m\u001b[0m ⋯\n",
       "────────┼───────────────────────────────────────────────────────────────────────\n",
       "      1 │       55.32       3.386    6766.44    5147.7       50.82    3639.9   ⋯\n",
       "      2 │       61.24       3.314   11421.3     3370.89      40.28    4646.79\n",
       "      3 │       52.92       3.252    9696.28     292.1      103.78    1133.15\n",
       "      4 │       56.23       3.211     883.59       4.17   74910.3      209.91\n",
       "      5 │       52.34       3.207    2460.03    4134.92    3838.35     150.57  ⋯\n",
       "      6 │       64.12       3.198    6343.16    3973.76     270.0     2928.9\n",
       "      7 │       48.89       3.168    3504.83    4256.4       73.26    1636.8\n",
       "      8 │       56.02       3.098    8231.71    4364.88     274.0      358.15\n",
       "      9 │       44.79       3.108   12659.5    37101.1      174.78      74.46  ⋯\n",
       "     10 │       41.73       3.161    1214.08   25366.3       15.01      72.36\n",
       "     11 │       50.32       3.243    6520.24   16134.6       12.17     774.55\n",
       "   ⋮    │      ⋮           ⋮           ⋮          ⋮          ⋮          ⋮      ⋱\n",
       " 115055 │       67.11       3.627    3249.34     481.82      58.48    1183.23\n",
       " 115056 │       65.88       3.646    6474.49     411.38      77.06       9.38  ⋯\n",
       " 115057 │       70.71       3.633    9977.82     744.29      80.0     4825.71\n",
       " 115058 │       70.01       3.632    2471.44     517.87     348.54    2612.33\n",
       " 115059 │       70.13       3.626    4989.34     385.31     178.56    2463.42\n",
       " 115060 │       76.05       3.639    4842.29     975.03       3.0     2449.97  ⋯\n",
       " 115061 │       77.5        3.614    9090.48    2268.58     582.74    5797.47\n",
       " 115062 │       79.37       3.614    3789.94    1827.31      85.72     744.84\n",
       " 115063 │       82.84       3.737    2961.49    1047.07     204.19     363.0\n",
       " 115064 │       76.06       3.804     212.02     851.73       2.06      10.88  ⋯\n",
       "\u001b[36m                                              10 columns and 115043 rows omitted\u001b[0m"
      ]
     },
     "execution_count": 326,
     "metadata": {},
     "output_type": "execute_result"
    }
   ],
   "source": [
    "train = disallowmissing(train)\n",
    "test = disallowmissing(test)"
   ]
  },
  {
   "cell_type": "markdown",
   "id": "200cb61f",
   "metadata": {},
   "source": [
    "# Unpack"
   ]
  },
  {
   "cell_type": "code",
   "execution_count": 327,
   "id": "d5653f20",
   "metadata": {},
   "outputs": [],
   "source": [
    "# y, X = unpack(train, ==(:Weekly_Sales), colname -> true) # \n",
    "y, x_train = unpack(train, \n",
    "    ==(:Weekly_Sales), \n",
    "    colname -> colname != :Date &&  colname !=:Id\n",
    "#     !=([:Date, :Id])\n",
    "#     !=(:Date)\n",
    "    );\n",
    "x_test = select(test, Not([:Date, :Id]));"
   ]
  },
  {
   "cell_type": "markdown",
   "id": "50a671cf",
   "metadata": {},
   "source": [
    "# One Hot and Standardize"
   ]
  },
  {
   "cell_type": "markdown",
   "id": "1b7f4155",
   "metadata": {},
   "source": [
    "This is a mess"
   ]
  },
  {
   "cell_type": "code",
   "execution_count": 328,
   "id": "99d1ae9a",
   "metadata": {
    "scrolled": true
   },
   "outputs": [
    {
     "name": "stderr",
     "output_type": "stream",
     "text": [
      "┌ Info: Training \u001b[34mMachine{OneHotEncoder,…} @828\u001b[39m.\n",
      "└ @ MLJBase /Users/alex/.julia/packages/MLJBase/hLtde/src/machines.jl:342\n",
      "┌ Info: Spawning 3 sub-features to one-hot encode feature :StoreType.\n",
      "└ @ MLJModels /Users/alex/.julia/packages/MLJModels/E8BbE/src/builtins/Transformers.jl:1142\n"
     ]
    },
    {
     "ename": "LoadError",
     "evalue": "InexactError: Int64(0.6302673385765398)",
     "output_type": "error",
     "traceback": [
      "InexactError: Int64(0.6302673385765398)",
      "",
      "Stacktrace:",
      "  [1] Int64",
      "    @ ./float.jl:723 [inlined]",
      "  [2] convert",
      "    @ ./number.jl:7 [inlined]",
      "  [3] setindex!",
      "    @ ./array.jl:841 [inlined]",
      "  [4] setindex!",
      "    @ ./multidimensional.jl:639 [inlined]",
      "  [5] macro expansion",
      "    @ ./broadcast.jl:984 [inlined]",
      "  [6] macro expansion",
      "    @ ./simdloop.jl:77 [inlined]",
      "  [7] copyto!",
      "    @ ./broadcast.jl:983 [inlined]",
      "  [8] copyto!",
      "    @ ./broadcast.jl:936 [inlined]",
      "  [9] materialize!",
      "    @ ./broadcast.jl:894 [inlined]",
      " [10] materialize!",
      "    @ ./broadcast.jl:891 [inlined]",
      " [11] broadcast!(::StatsBase.var\"#216#217\", ::Matrix{Int64}, ::Matrix{Int64}, ::LinearAlgebra.Adjoint{Float64, Vector{Float64}}, ::LinearAlgebra.Adjoint{Float64, Vector{Float64}})",
      "    @ Base.Broadcast ./broadcast.jl:860",
      " [12] transform!(y::Matrix{Int64}, t::UnitRangeTransform{Float64, Vector{Float64}}, x::Matrix{Int64})",
      "    @ StatsBase ~/.julia/packages/StatsBase/zjbXF/src/transformations.jl:308",
      " [13] transform",
      "    @ ~/.julia/packages/StatsBase/zjbXF/src/transformations.jl:21 [inlined]",
      " [14] transform(t::UnitRangeTransform{Float64, Vector{Float64}}, x::Vector{Int64})",
      "    @ StatsBase ~/.julia/packages/StatsBase/zjbXF/src/transformations.jl:23",
      " [15] top-level scope",
      "    @ ./In[328]:24",
      " [16] eval",
      "    @ ./boot.jl:360 [inlined]",
      " [17] include_string(mapexpr::typeof(REPL.softscope), mod::Module, code::String, filename::String)",
      "    @ Base ./loading.jl:1094"
     ]
    }
   ],
   "source": [
    "\n",
    "\n",
    "\n",
    "mach = fit!(machine(OneHotEncoder(), x_train))\n",
    "\n",
    "x_train = MLJ.transform(mach, x_train)\n",
    "\n",
    "x_test = MLJ.transform(mach, x_test)\n",
    "\n",
    "x_train[!,:StoreType__A] = convert.(Bool,x_train[!,:StoreType__A])\n",
    "x_train[!,:StoreType__B] = convert.(Bool,x_train[!,:StoreType__B])\n",
    "x_train[!,:StoreType__C] = convert.(Bool,x_train[!,:StoreType__C])\n",
    "x_train[!,:Size] = convert.(Float64,x_train[!,:Size])\n",
    "\n",
    "x_test[!,:StoreType__A] = convert.(Bool,x_test[!,:StoreType__A])\n",
    "x_test[!,:StoreType__B] = convert.(Bool,x_test[!,:StoreType__B])\n",
    "x_test[!,:StoreType__C] = convert.(Bool,x_test[!,:StoreType__C])\n",
    "test[!,:Size] = convert.(Float64,x_test[!,:Size])\n",
    "\n",
    "for i in 1:length(x_train[1,:])\n",
    "    if typeof(x_train[1,i]) == Float64\n",
    "        dt = StatsBase.fit(UnitRangeTransform, x_train[:,i])\n",
    "        x_train[:,i] = StatsBase.transform(dt, x_train[:,i])\n",
    "        x_test[:,i] = StatsBase.transform(dt, x_test[:,i])\n",
    "    end\n",
    "end"
   ]
  },
  {
   "cell_type": "code",
   "execution_count": 329,
   "id": "f7fa6a43",
   "metadata": {},
   "outputs": [
    {
     "data": {
      "text/html": [
       "<table class=\"data-frame\"><thead><tr><th></th><th>variable</th><th>mean</th><th>min</th><th>median</th><th>max</th><th>nmissing</th><th>eltype</th></tr><tr><th></th><th>Symbol</th><th>Float64</th><th>Real</th><th>Float64</th><th>Real</th><th>Int64</th><th>DataType</th></tr></thead><tbody><p>16 rows × 7 columns</p><tr><th>1</th><td>Temperature</td><td>0.608122</td><td>0.0</td><td>0.627691</td><td>1.0</td><td>0</td><td>Float64</td></tr><tr><th>2</th><td>Fuel_Price</td><td>0.445404</td><td>0.0</td><td>0.490982</td><td>1.0</td><td>0</td><td>Float64</td></tr><tr><th>3</th><td>MarkDown1</td><td>0.0745849</td><td>0.0</td><td>0.0658706</td><td>1.0</td><td>0</td><td>Float64</td></tr><tr><th>4</th><td>MarkDown2</td><td>0.146615</td><td>0.0</td><td>0.142355</td><td>1.0</td><td>0</td><td>Float64</td></tr><tr><th>5</th><td>MarkDown3</td><td>0.0690661</td><td>0.0</td><td>0.0665737</td><td>1.0</td><td>0</td><td>Float64</td></tr><tr><th>6</th><td>MarkDown4</td><td>0.0752952</td><td>0.0</td><td>0.0690309</td><td>1.0</td><td>0</td><td>Float64</td></tr><tr><th>7</th><td>MarkDown5</td><td>0.0396928</td><td>0.0</td><td>0.0353899</td><td>1.0</td><td>0</td><td>Float64</td></tr><tr><th>8</th><td>CPI</td><td>0.446165</td><td>0.0</td><td>0.556049</td><td>1.0</td><td>0</td><td>Float64</td></tr><tr><th>9</th><td>Unemployment</td><td>0.391153</td><td>0.0</td><td>0.382116</td><td>1.0</td><td>0</td><td>Float64</td></tr><tr><th>10</th><td>IsHoliday</td><td>0.0703584</td><td>0</td><td>0.0</td><td>1</td><td>0</td><td>Bool</td></tr><tr><th>11</th><td>StoreType__A</td><td>0.511132</td><td>0</td><td>1.0</td><td>1</td><td>0</td><td>Bool</td></tr><tr><th>12</th><td>StoreType__B</td><td>0.387824</td><td>0</td><td>0.0</td><td>1</td><td>0</td><td>Bool</td></tr><tr><th>13</th><td>StoreType__C</td><td>0.101044</td><td>0</td><td>0.0</td><td>1</td><td>0</td><td>Bool</td></tr><tr><th>14</th><td>Size</td><td>0.55131</td><td>0.0</td><td>0.569925</td><td>1.0</td><td>0</td><td>Float64</td></tr><tr><th>15</th><td>Store</td><td>22.2005</td><td>1</td><td>22.0</td><td>45</td><td>0</td><td>Int64</td></tr><tr><th>16</th><td>Dept</td><td>44.2603</td><td>1</td><td>37.0</td><td>99</td><td>0</td><td>Int64</td></tr></tbody></table>"
      ],
      "text/latex": [
       "\\begin{tabular}{r|ccccccc}\n",
       "\t& variable & mean & min & median & max & nmissing & eltype\\\\\n",
       "\t\\hline\n",
       "\t& Symbol & Float64 & Real & Float64 & Real & Int64 & DataType\\\\\n",
       "\t\\hline\n",
       "\t1 & Temperature & 0.608122 & 0.0 & 0.627691 & 1.0 & 0 & Float64 \\\\\n",
       "\t2 & Fuel\\_Price & 0.445404 & 0.0 & 0.490982 & 1.0 & 0 & Float64 \\\\\n",
       "\t3 & MarkDown1 & 0.0745849 & 0.0 & 0.0658706 & 1.0 & 0 & Float64 \\\\\n",
       "\t4 & MarkDown2 & 0.146615 & 0.0 & 0.142355 & 1.0 & 0 & Float64 \\\\\n",
       "\t5 & MarkDown3 & 0.0690661 & 0.0 & 0.0665737 & 1.0 & 0 & Float64 \\\\\n",
       "\t6 & MarkDown4 & 0.0752952 & 0.0 & 0.0690309 & 1.0 & 0 & Float64 \\\\\n",
       "\t7 & MarkDown5 & 0.0396928 & 0.0 & 0.0353899 & 1.0 & 0 & Float64 \\\\\n",
       "\t8 & CPI & 0.446165 & 0.0 & 0.556049 & 1.0 & 0 & Float64 \\\\\n",
       "\t9 & Unemployment & 0.391153 & 0.0 & 0.382116 & 1.0 & 0 & Float64 \\\\\n",
       "\t10 & IsHoliday & 0.0703584 & 0 & 0.0 & 1 & 0 & Bool \\\\\n",
       "\t11 & StoreType\\_\\_A & 0.511132 & 0 & 1.0 & 1 & 0 & Bool \\\\\n",
       "\t12 & StoreType\\_\\_B & 0.387824 & 0 & 0.0 & 1 & 0 & Bool \\\\\n",
       "\t13 & StoreType\\_\\_C & 0.101044 & 0 & 0.0 & 1 & 0 & Bool \\\\\n",
       "\t14 & Size & 0.55131 & 0.0 & 0.569925 & 1.0 & 0 & Float64 \\\\\n",
       "\t15 & Store & 22.2005 & 1 & 22.0 & 45 & 0 & Int64 \\\\\n",
       "\t16 & Dept & 44.2603 & 1 & 37.0 & 99 & 0 & Int64 \\\\\n",
       "\\end{tabular}\n"
      ],
      "text/plain": [
       "\u001b[1m16×7 DataFrame\u001b[0m\n",
       "\u001b[1m Row \u001b[0m│\u001b[1m variable     \u001b[0m\u001b[1m mean       \u001b[0m\u001b[1m min     \u001b[0m\u001b[1m median     \u001b[0m\u001b[1m max    \u001b[0m\u001b[1m nmissing \u001b[0m\u001b[1m eltype\u001b[0m ⋯\n",
       "\u001b[1m     \u001b[0m│\u001b[90m Symbol       \u001b[0m\u001b[90m Float64    \u001b[0m\u001b[90m Real    \u001b[0m\u001b[90m Float64    \u001b[0m\u001b[90m Real   \u001b[0m\u001b[90m Int64    \u001b[0m\u001b[90m DataTy\u001b[0m ⋯\n",
       "─────┼──────────────────────────────────────────────────────────────────────────\n",
       "   1 │ Temperature    0.608122       0.0   0.627691      1.0         0  Float6 ⋯\n",
       "   2 │ Fuel_Price     0.445404       0.0   0.490982      1.0         0  Float6\n",
       "   3 │ MarkDown1      0.0745849      0.0   0.0658706     1.0         0  Float6\n",
       "   4 │ MarkDown2      0.146615       0.0   0.142355      1.0         0  Float6\n",
       "   5 │ MarkDown3      0.0690661      0.0   0.0665737     1.0         0  Float6 ⋯\n",
       "   6 │ MarkDown4      0.0752952      0.0   0.0690309     1.0         0  Float6\n",
       "   7 │ MarkDown5      0.0396928      0.0   0.0353899     1.0         0  Float6\n",
       "   8 │ CPI            0.446165       0.0   0.556049      1.0         0  Float6\n",
       "   9 │ Unemployment   0.391153       0.0   0.382116      1.0         0  Float6 ⋯\n",
       "  10 │ IsHoliday      0.0703584  false     0.0        true           0  Bool\n",
       "  11 │ StoreType__A   0.511132   false     1.0        true           0  Bool\n",
       "  12 │ StoreType__B   0.387824   false     0.0        true           0  Bool\n",
       "  13 │ StoreType__C   0.101044   false     0.0        true           0  Bool   ⋯\n",
       "  14 │ Size           0.55131        0.0   0.569925      1.0         0  Float6\n",
       "  15 │ Store         22.2005         1    22.0          45           0  Int64\n",
       "  16 │ Dept          44.2603         1    37.0          99           0  Int64\n",
       "\u001b[36m                                                                1 column omitted\u001b[0m"
      ]
     },
     "execution_count": 329,
     "metadata": {},
     "output_type": "execute_result"
    }
   ],
   "source": [
    "describe(x_train)"
   ]
  },
  {
   "cell_type": "code",
   "execution_count": 330,
   "id": "214b0447",
   "metadata": {},
   "outputs": [
    {
     "data": {
      "text/html": [
       "<table class=\"data-frame\"><thead><tr><th></th><th>variable</th><th>mean</th><th>min</th><th>median</th><th>max</th><th>nmissing</th><th>eltype</th></tr><tr><th></th><th>Symbol</th><th>Float64</th><th>Real</th><th>Float64</th><th>Real</th><th>Int64</th><th>DataType</th></tr></thead><tbody><p>16 rows × 7 columns</p><tr><th>1</th><td>Temperature</td><td>0.547963</td><td>-0.0511742</td><td>0.553131</td><td>1.01771</td><td>0</td><td>Float64</td></tr><tr><th>2</th><td>Fuel_Price</td><td>0.555885</td><td>0.200401</td><td>0.568136</td><td>0.828156</td><td>0</td><td>Float64</td></tr><tr><th>3</th><td>MarkDown1</td><td>0.0866604</td><td>-0.0313799</td><td>0.0544686</td><td>1.164</td><td>0</td><td>Float64</td></tr><tr><th>4</th><td>MarkDown2</td><td>0.154671</td><td>0.0941569</td><td>0.134328</td><td>0.720066</td><td>0</td><td>Float64</td></tr><tr><th>5</th><td>MarkDown3</td><td>0.0758426</td><td>0.0510615</td><td>0.0609155</td><td>1.0521</td><td>0</td><td>Float64</td></tr><tr><th>6</th><td>MarkDown4</td><td>0.0799343</td><td>-0.00125495</td><td>0.0464806</td><td>0.969618</td><td>0</td><td>Float64</td></tr><tr><th>7</th><td>MarkDown5</td><td>0.0349454</td><td>-0.00295551</td><td>0.0208081</td><td>7.11648</td><td>0</td><td>Float64</td></tr><tr><th>8</th><td>CPI</td><td>0.448187</td><td>-0.665336</td><td>0.378272</td><td>1.20132</td><td>0</td><td>Float64</td></tr><tr><th>9</th><td>Unemployment</td><td>0.285105</td><td>-0.0591712</td><td>0.279088</td><td>0.605712</td><td>0</td><td>Float64</td></tr><tr><th>10</th><td>IsHoliday</td><td>0.0775916</td><td>0</td><td>0.0</td><td>1</td><td>0</td><td>Bool</td></tr><tr><th>11</th><td>StoreType__A</td><td>0.510264</td><td>0</td><td>1.0</td><td>1</td><td>0</td><td>Bool</td></tr><tr><th>12</th><td>StoreType__B</td><td>0.386741</td><td>0</td><td>0.0</td><td>1</td><td>0</td><td>Bool</td></tr><tr><th>13</th><td>StoreType__C</td><td>0.102995</td><td>0</td><td>0.0</td><td>1</td><td>0</td><td>Bool</td></tr><tr><th>14</th><td>Size</td><td>1.36498e5</td><td>34875</td><td>140167.0</td><td>219622</td><td>0</td><td>Int64</td></tr><tr><th>15</th><td>Store</td><td>22.2382</td><td>1</td><td>22.0</td><td>45</td><td>0</td><td>Int64</td></tr><tr><th>16</th><td>Dept</td><td>44.3395</td><td>1</td><td>37.0</td><td>99</td><td>0</td><td>Int64</td></tr></tbody></table>"
      ],
      "text/latex": [
       "\\begin{tabular}{r|ccccccc}\n",
       "\t& variable & mean & min & median & max & nmissing & eltype\\\\\n",
       "\t\\hline\n",
       "\t& Symbol & Float64 & Real & Float64 & Real & Int64 & DataType\\\\\n",
       "\t\\hline\n",
       "\t1 & Temperature & 0.547963 & -0.0511742 & 0.553131 & 1.01771 & 0 & Float64 \\\\\n",
       "\t2 & Fuel\\_Price & 0.555885 & 0.200401 & 0.568136 & 0.828156 & 0 & Float64 \\\\\n",
       "\t3 & MarkDown1 & 0.0866604 & -0.0313799 & 0.0544686 & 1.164 & 0 & Float64 \\\\\n",
       "\t4 & MarkDown2 & 0.154671 & 0.0941569 & 0.134328 & 0.720066 & 0 & Float64 \\\\\n",
       "\t5 & MarkDown3 & 0.0758426 & 0.0510615 & 0.0609155 & 1.0521 & 0 & Float64 \\\\\n",
       "\t6 & MarkDown4 & 0.0799343 & -0.00125495 & 0.0464806 & 0.969618 & 0 & Float64 \\\\\n",
       "\t7 & MarkDown5 & 0.0349454 & -0.00295551 & 0.0208081 & 7.11648 & 0 & Float64 \\\\\n",
       "\t8 & CPI & 0.448187 & -0.665336 & 0.378272 & 1.20132 & 0 & Float64 \\\\\n",
       "\t9 & Unemployment & 0.285105 & -0.0591712 & 0.279088 & 0.605712 & 0 & Float64 \\\\\n",
       "\t10 & IsHoliday & 0.0775916 & 0 & 0.0 & 1 & 0 & Bool \\\\\n",
       "\t11 & StoreType\\_\\_A & 0.510264 & 0 & 1.0 & 1 & 0 & Bool \\\\\n",
       "\t12 & StoreType\\_\\_B & 0.386741 & 0 & 0.0 & 1 & 0 & Bool \\\\\n",
       "\t13 & StoreType\\_\\_C & 0.102995 & 0 & 0.0 & 1 & 0 & Bool \\\\\n",
       "\t14 & Size & 1.36498e5 & 34875 & 140167.0 & 219622 & 0 & Int64 \\\\\n",
       "\t15 & Store & 22.2382 & 1 & 22.0 & 45 & 0 & Int64 \\\\\n",
       "\t16 & Dept & 44.3395 & 1 & 37.0 & 99 & 0 & Int64 \\\\\n",
       "\\end{tabular}\n"
      ],
      "text/plain": [
       "\u001b[1m16×7 DataFrame\u001b[0m\n",
       "\u001b[1m Row \u001b[0m│\u001b[1m variable     \u001b[0m\u001b[1m mean       \u001b[0m\u001b[1m min            \u001b[0m\u001b[1m median         \u001b[0m\u001b[1m max          \u001b[0m ⋯\n",
       "\u001b[1m     \u001b[0m│\u001b[90m Symbol       \u001b[0m\u001b[90m Float64    \u001b[0m\u001b[90m Real           \u001b[0m\u001b[90m Float64        \u001b[0m\u001b[90m Real         \u001b[0m ⋯\n",
       "─────┼──────────────────────────────────────────────────────────────────────────\n",
       "   1 │ Temperature    0.547963      -0.0511742        0.553131        1.01771  ⋯\n",
       "   2 │ Fuel_Price     0.555885       0.200401         0.568136        0.828156\n",
       "   3 │ MarkDown1      0.0866604     -0.0313799        0.0544686       1.164\n",
       "   4 │ MarkDown2      0.154671       0.0941569        0.134328        0.720066\n",
       "   5 │ MarkDown3      0.0758426      0.0510615        0.0609155       1.0521   ⋯\n",
       "   6 │ MarkDown4      0.0799343     -0.00125495       0.0464806       0.969618\n",
       "   7 │ MarkDown5      0.0349454     -0.00295551       0.0208081       7.11648\n",
       "   8 │ CPI            0.448187      -0.665336         0.378272        1.20132\n",
       "   9 │ Unemployment   0.285105      -0.0591712        0.279088        0.605712 ⋯\n",
       "  10 │ IsHoliday      0.0775916  false                0.0          true\n",
       "  11 │ StoreType__A   0.510264   false                1.0          true\n",
       "  12 │ StoreType__B   0.386741   false                0.0          true\n",
       "  13 │ StoreType__C   0.102995   false                0.0          true        ⋯\n",
       "  14 │ Size           1.36498e5  34875           140167.0        219622\n",
       "  15 │ Store         22.2382         1               22.0            45\n",
       "  16 │ Dept          44.3395         1               37.0            99\n",
       "\u001b[36m                                                               2 columns omitted\u001b[0m"
      ]
     },
     "execution_count": 330,
     "metadata": {},
     "output_type": "execute_result"
    }
   ],
   "source": [
    "describe(x_test)"
   ]
  },
  {
   "cell_type": "code",
   "execution_count": null,
   "id": "308234d3",
   "metadata": {},
   "outputs": [],
   "source": []
  },
  {
   "cell_type": "markdown",
   "id": "07f31897",
   "metadata": {},
   "source": [
    "# Save"
   ]
  },
  {
   "cell_type": "code",
   "execution_count": 331,
   "id": "22054286",
   "metadata": {},
   "outputs": [],
   "source": [
    "FileIO.save(\"preprocessed.jld2\", Dict(\"x_train\" => x_train, \"x_test\" => x_test, \"y\" => y) )"
   ]
  },
  {
   "cell_type": "code",
   "execution_count": null,
   "id": "fb6ab9a8",
   "metadata": {},
   "outputs": [],
   "source": []
  }
 ],
 "metadata": {
  "kernelspec": {
   "display_name": "Julia 1.6.0",
   "language": "julia",
   "name": "julia-1.6"
  },
  "language_info": {
   "file_extension": ".jl",
   "mimetype": "application/julia",
   "name": "julia",
   "version": "1.6.1"
  }
 },
 "nbformat": 4,
 "nbformat_minor": 5
}
