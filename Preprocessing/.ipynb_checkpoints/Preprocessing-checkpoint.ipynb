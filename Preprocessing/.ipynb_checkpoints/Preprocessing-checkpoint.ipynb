{
 "cells": [
  {
   "cell_type": "code",
   "execution_count": 1,
   "id": "94ef187b",
   "metadata": {},
   "outputs": [],
   "source": [
    "import Impute\n",
    "using Plots\n",
    "using DataFrames\n",
    "import CSV\n",
    "using MLJ\n",
    "using LossFunctions"
   ]
  },
  {
   "cell_type": "code",
   "execution_count": null,
   "id": "cdd2d37b",
   "metadata": {},
   "outputs": [],
   "source": []
  },
  {
   "cell_type": "code",
   "execution_count": null,
   "id": "05c8aa4c",
   "metadata": {},
   "outputs": [],
   "source": [
    "features = DataFrame(CSV.File(\"features.csv\",missingstring=\"missing\"));\n",
    "train = DataFrame(CSV.File(\"train.csv\"));\n",
    "test = DataFrame(CSV.File(\"test.csv\"));\n",
    "stores = DataFrame(CSV.File(\"stores.csv\"));\n",
    "features.StoreType = stores[features.Store,:Type];\n",
    "features.Size = stores[features.Store,:Size];\n",
    "features.Id1 = string.(features.Store,\"_\",features.Date);\n",
    "select!(features, Not([:Store,:Date]));"
   ]
  },
  {
   "cell_type": "code",
   "execution_count": null,
   "id": "57bf33ee",
   "metadata": {},
   "outputs": [],
   "source": [
    "# train.Id = string.(train.Store,\"_\",train.Dept,\"_\",train.Date);\n",
    "train.Id1 = string.(train.Store,\"_\",train.Date);\n",
    "# select!(train, Not([:Store,:Date,:IsHoliday]));\n",
    "# select!(train, :Id,:Weekly_Sales,:IsHoliday);\n",
    "\n",
    "# test.Id = string.(test.Store,\"_\",test.Dept,\"_\",test.Date);\n",
    "test.Id1 = string.(test.Store,\"_\",test.Date);\n",
    "# select!(test, Not([:Store,:Date,:IsHoliday]));\n",
    "# select!(test, :Id,:IsHoliday);"
   ]
  },
  {
   "cell_type": "code",
   "execution_count": null,
   "id": "633bd4c6",
   "metadata": {},
   "outputs": [],
   "source": [
    "train = innerjoin(features,train,on=:Id1,makeunique=true)\n",
    "train.Id = string.(train.Store,\"_\",train.Dept,\"_\",train.Date);\n",
    "# select!(train, Not([:Store,:Date,:IsHoliday,:Id1]));\n",
    "# target = select(train, :Weekly_Sales);\n",
    "select!(train, Not([:Id1,:IsHoliday_1]));\n",
    "train;"
   ]
  },
  {
   "cell_type": "code",
   "execution_count": null,
   "id": "cef383e5",
   "metadata": {},
   "outputs": [],
   "source": [
    "test = innerjoin(features,test,on=:Id1,makeunique=true)\n",
    "test.Id = string.(test.Store,\"_\",test.Dept,\"_\",test.Date);\n",
    "# select!(test, Not([:Store,:Date,:IsHoliday,:Id1]));\n",
    "select!(test, Not([:Id1,:IsHoliday_1]));\n",
    "test;"
   ]
  },
  {
   "cell_type": "code",
   "execution_count": null,
   "id": "3e50b24c",
   "metadata": {},
   "outputs": [],
   "source": [
    "train = coerce(train, :StoreType => Multiclass);"
   ]
  },
  {
   "cell_type": "code",
   "execution_count": null,
   "id": "cd184a40",
   "metadata": {},
   "outputs": [],
   "source": [
    "schema(train)"
   ]
  },
  {
   "cell_type": "code",
   "execution_count": null,
   "id": "5c2e4690",
   "metadata": {},
   "outputs": [],
   "source": [
    "train = Impute.filter(train; dims=:rows) # drop missing rows\n",
    "# train = Impute.substitute(train) # substitute (somehow!?) missing data"
   ]
  },
  {
   "cell_type": "code",
   "execution_count": null,
   "id": "6c89b4f7",
   "metadata": {},
   "outputs": [],
   "source": []
  },
  {
   "cell_type": "code",
   "execution_count": null,
   "id": "9d48482f",
   "metadata": {},
   "outputs": [],
   "source": []
  },
  {
   "cell_type": "code",
   "execution_count": null,
   "id": "5b1bb10d",
   "metadata": {},
   "outputs": [],
   "source": []
  }
 ],
 "metadata": {
  "kernelspec": {
   "display_name": "Julia 1.6.0",
   "language": "julia",
   "name": "julia-1.6"
  },
  "language_info": {
   "file_extension": ".jl",
   "mimetype": "application/julia",
   "name": "julia",
   "version": "1.6.1"
  }
 },
 "nbformat": 4,
 "nbformat_minor": 5
}
